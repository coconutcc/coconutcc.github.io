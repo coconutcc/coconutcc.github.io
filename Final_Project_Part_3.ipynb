{
  "cells": [
    {
      "cell_type": "markdown",
      "metadata": {
        "id": "view-in-github",
        "colab_type": "text"
      },
      "source": [
        "<a href=\"https://colab.research.google.com/github/coconutcc/coconutcc.github.io/blob/main/Final_Project_Part_3.ipynb\" target=\"_parent\"><img src=\"https://colab.research.google.com/assets/colab-badge.svg\" alt=\"Open In Colab\"/></a>"
      ]
    },
    {
      "cell_type": "code",
      "execution_count": 1,
      "metadata": {
        "colab": {
          "base_uri": "https://localhost:8080/"
        },
        "id": "DxqXEZajMoLv",
        "outputId": "78b87019-f8f4-43a3-c411-05ac70b2e059"
      },
      "outputs": [
        {
          "output_type": "stream",
          "name": "stdout",
          "text": [
            "Looking in indexes: https://pypi.org/simple, https://us-python.pkg.dev/colab-wheels/public/simple/\n",
            "Collecting sodapy\n",
            "  Downloading sodapy-2.2.0-py2.py3-none-any.whl (15 kB)\n",
            "Collecting requests>=2.28.1\n",
            "  Downloading requests-2.28.1-py3-none-any.whl (62 kB)\n",
            "\u001b[K     |████████████████████████████████| 62 kB 1.3 MB/s \n",
            "\u001b[?25hRequirement already satisfied: idna<4,>=2.5 in /usr/local/lib/python3.8/dist-packages (from requests>=2.28.1->sodapy) (2.10)\n",
            "Requirement already satisfied: urllib3<1.27,>=1.21.1 in /usr/local/lib/python3.8/dist-packages (from requests>=2.28.1->sodapy) (1.24.3)\n",
            "Requirement already satisfied: charset-normalizer<3,>=2 in /usr/local/lib/python3.8/dist-packages (from requests>=2.28.1->sodapy) (2.1.1)\n",
            "Requirement already satisfied: certifi>=2017.4.17 in /usr/local/lib/python3.8/dist-packages (from requests>=2.28.1->sodapy) (2022.12.7)\n",
            "Installing collected packages: requests, sodapy\n",
            "  Attempting uninstall: requests\n",
            "    Found existing installation: requests 2.23.0\n",
            "    Uninstalling requests-2.23.0:\n",
            "      Successfully uninstalled requests-2.23.0\n",
            "Successfully installed requests-2.28.1 sodapy-2.2.0\n"
          ]
        }
      ],
      "source": [
        "pip install sodapy"
      ]
    },
    {
      "cell_type": "code",
      "execution_count": 2,
      "metadata": {
        "colab": {
          "base_uri": "https://localhost:8080/"
        },
        "id": "znAYVra4M4vq",
        "outputId": "b6aaa6d1-b37b-41de-f21b-c1f662b86c88"
      },
      "outputs": [
        {
          "output_type": "stream",
          "name": "stdout",
          "text": [
            "Looking in indexes: https://pypi.org/simple, https://us-python.pkg.dev/colab-wheels/public/simple/\n",
            "Collecting geopandas\n",
            "  Downloading geopandas-0.12.2-py3-none-any.whl (1.1 MB)\n",
            "\u001b[K     |████████████████████████████████| 1.1 MB 6.0 MB/s \n",
            "\u001b[?25hCollecting fiona>=1.8\n",
            "  Downloading Fiona-1.8.22-cp38-cp38-manylinux_2_17_x86_64.manylinux2014_x86_64.whl (16.6 MB)\n",
            "\u001b[K     |████████████████████████████████| 16.6 MB 62.5 MB/s \n",
            "\u001b[?25hRequirement already satisfied: shapely>=1.7 in /usr/local/lib/python3.8/dist-packages (from geopandas) (2.0.0)\n",
            "Requirement already satisfied: pandas>=1.0.0 in /usr/local/lib/python3.8/dist-packages (from geopandas) (1.3.5)\n",
            "Collecting pyproj>=2.6.1.post1\n",
            "  Downloading pyproj-3.4.1-cp38-cp38-manylinux_2_17_x86_64.manylinux2014_x86_64.whl (7.8 MB)\n",
            "\u001b[K     |████████████████████████████████| 7.8 MB 70.9 MB/s \n",
            "\u001b[?25hRequirement already satisfied: packaging in /usr/local/lib/python3.8/dist-packages (from geopandas) (21.3)\n",
            "Collecting cligj>=0.5\n",
            "  Downloading cligj-0.7.2-py3-none-any.whl (7.1 kB)\n",
            "Requirement already satisfied: six>=1.7 in /usr/local/lib/python3.8/dist-packages (from fiona>=1.8->geopandas) (1.15.0)\n",
            "Requirement already satisfied: setuptools in /usr/local/lib/python3.8/dist-packages (from fiona>=1.8->geopandas) (57.4.0)\n",
            "Collecting click-plugins>=1.0\n",
            "  Downloading click_plugins-1.1.1-py2.py3-none-any.whl (7.5 kB)\n",
            "Requirement already satisfied: click>=4.0 in /usr/local/lib/python3.8/dist-packages (from fiona>=1.8->geopandas) (7.1.2)\n",
            "Requirement already satisfied: attrs>=17 in /usr/local/lib/python3.8/dist-packages (from fiona>=1.8->geopandas) (22.1.0)\n",
            "Requirement already satisfied: certifi in /usr/local/lib/python3.8/dist-packages (from fiona>=1.8->geopandas) (2022.12.7)\n",
            "Collecting munch\n",
            "  Downloading munch-2.5.0-py2.py3-none-any.whl (10 kB)\n",
            "Requirement already satisfied: pytz>=2017.3 in /usr/local/lib/python3.8/dist-packages (from pandas>=1.0.0->geopandas) (2022.6)\n",
            "Requirement already satisfied: numpy>=1.17.3 in /usr/local/lib/python3.8/dist-packages (from pandas>=1.0.0->geopandas) (1.21.6)\n",
            "Requirement already satisfied: python-dateutil>=2.7.3 in /usr/local/lib/python3.8/dist-packages (from pandas>=1.0.0->geopandas) (2.8.2)\n",
            "Requirement already satisfied: pyparsing!=3.0.5,>=2.0.2 in /usr/local/lib/python3.8/dist-packages (from packaging->geopandas) (3.0.9)\n",
            "Installing collected packages: munch, cligj, click-plugins, pyproj, fiona, geopandas\n",
            "Successfully installed click-plugins-1.1.1 cligj-0.7.2 fiona-1.8.22 geopandas-0.12.2 munch-2.5.0 pyproj-3.4.1\n"
          ]
        }
      ],
      "source": [
        "pip install geopandas"
      ]
    },
    {
      "cell_type": "code",
      "execution_count": 3,
      "metadata": {
        "colab": {
          "base_uri": "https://localhost:8080/"
        },
        "id": "hCo8IDV1M98C",
        "outputId": "07123764-d9ca-435e-f32c-0bbc1862720c"
      },
      "outputs": [
        {
          "output_type": "stream",
          "name": "stdout",
          "text": [
            "Looking in indexes: https://pypi.org/simple, https://us-python.pkg.dev/colab-wheels/public/simple/\n",
            "Collecting bqplot\n",
            "  Downloading bqplot-0.12.36-py2.py3-none-any.whl (1.2 MB)\n",
            "\u001b[K     |████████████████████████████████| 1.2 MB 6.9 MB/s \n",
            "\u001b[?25hRequirement already satisfied: traitlets>=4.3.0 in /usr/local/lib/python3.8/dist-packages (from bqplot) (5.7.1)\n",
            "Requirement already satisfied: ipywidgets<9,>=7.5.0 in /usr/local/lib/python3.8/dist-packages (from bqplot) (7.7.1)\n",
            "Requirement already satisfied: numpy<2.0.0,>=1.10.4 in /usr/local/lib/python3.8/dist-packages (from bqplot) (1.21.6)\n",
            "Requirement already satisfied: pandas<2.0.0,>=1.0.0 in /usr/local/lib/python3.8/dist-packages (from bqplot) (1.3.5)\n",
            "Collecting traittypes>=0.0.6\n",
            "  Downloading traittypes-0.2.1-py2.py3-none-any.whl (8.6 kB)\n",
            "Requirement already satisfied: jupyterlab-widgets>=1.0.0 in /usr/local/lib/python3.8/dist-packages (from ipywidgets<9,>=7.5.0->bqplot) (3.0.4)\n",
            "Requirement already satisfied: ipython-genutils~=0.2.0 in /usr/local/lib/python3.8/dist-packages (from ipywidgets<9,>=7.5.0->bqplot) (0.2.0)\n",
            "Requirement already satisfied: ipython>=4.0.0 in /usr/local/lib/python3.8/dist-packages (from ipywidgets<9,>=7.5.0->bqplot) (7.9.0)\n",
            "Requirement already satisfied: ipykernel>=4.5.1 in /usr/local/lib/python3.8/dist-packages (from ipywidgets<9,>=7.5.0->bqplot) (5.3.4)\n",
            "Requirement already satisfied: widgetsnbextension~=3.6.0 in /usr/local/lib/python3.8/dist-packages (from ipywidgets<9,>=7.5.0->bqplot) (3.6.1)\n",
            "Requirement already satisfied: jupyter-client in /usr/local/lib/python3.8/dist-packages (from ipykernel>=4.5.1->ipywidgets<9,>=7.5.0->bqplot) (6.1.12)\n",
            "Requirement already satisfied: tornado>=4.2 in /usr/local/lib/python3.8/dist-packages (from ipykernel>=4.5.1->ipywidgets<9,>=7.5.0->bqplot) (6.0.4)\n",
            "Requirement already satisfied: setuptools>=18.5 in /usr/local/lib/python3.8/dist-packages (from ipython>=4.0.0->ipywidgets<9,>=7.5.0->bqplot) (57.4.0)\n",
            "Requirement already satisfied: decorator in /usr/local/lib/python3.8/dist-packages (from ipython>=4.0.0->ipywidgets<9,>=7.5.0->bqplot) (4.4.2)\n",
            "Requirement already satisfied: backcall in /usr/local/lib/python3.8/dist-packages (from ipython>=4.0.0->ipywidgets<9,>=7.5.0->bqplot) (0.2.0)\n",
            "Collecting jedi>=0.10\n",
            "  Downloading jedi-0.18.2-py2.py3-none-any.whl (1.6 MB)\n",
            "\u001b[K     |████████████████████████████████| 1.6 MB 48.0 MB/s \n",
            "\u001b[?25hRequirement already satisfied: pickleshare in /usr/local/lib/python3.8/dist-packages (from ipython>=4.0.0->ipywidgets<9,>=7.5.0->bqplot) (0.7.5)\n",
            "Requirement already satisfied: prompt-toolkit<2.1.0,>=2.0.0 in /usr/local/lib/python3.8/dist-packages (from ipython>=4.0.0->ipywidgets<9,>=7.5.0->bqplot) (2.0.10)\n",
            "Requirement already satisfied: pexpect in /usr/local/lib/python3.8/dist-packages (from ipython>=4.0.0->ipywidgets<9,>=7.5.0->bqplot) (4.8.0)\n",
            "Requirement already satisfied: pygments in /usr/local/lib/python3.8/dist-packages (from ipython>=4.0.0->ipywidgets<9,>=7.5.0->bqplot) (2.6.1)\n",
            "Requirement already satisfied: parso<0.9.0,>=0.8.0 in /usr/local/lib/python3.8/dist-packages (from jedi>=0.10->ipython>=4.0.0->ipywidgets<9,>=7.5.0->bqplot) (0.8.3)\n",
            "Requirement already satisfied: pytz>=2017.3 in /usr/local/lib/python3.8/dist-packages (from pandas<2.0.0,>=1.0.0->bqplot) (2022.6)\n",
            "Requirement already satisfied: python-dateutil>=2.7.3 in /usr/local/lib/python3.8/dist-packages (from pandas<2.0.0,>=1.0.0->bqplot) (2.8.2)\n",
            "Requirement already satisfied: six>=1.9.0 in /usr/local/lib/python3.8/dist-packages (from prompt-toolkit<2.1.0,>=2.0.0->ipython>=4.0.0->ipywidgets<9,>=7.5.0->bqplot) (1.15.0)\n",
            "Requirement already satisfied: wcwidth in /usr/local/lib/python3.8/dist-packages (from prompt-toolkit<2.1.0,>=2.0.0->ipython>=4.0.0->ipywidgets<9,>=7.5.0->bqplot) (0.2.5)\n",
            "Requirement already satisfied: notebook>=4.4.1 in /usr/local/lib/python3.8/dist-packages (from widgetsnbextension~=3.6.0->ipywidgets<9,>=7.5.0->bqplot) (5.7.16)\n",
            "Requirement already satisfied: jinja2<=3.0.0 in /usr/local/lib/python3.8/dist-packages (from notebook>=4.4.1->widgetsnbextension~=3.6.0->ipywidgets<9,>=7.5.0->bqplot) (2.11.3)\n",
            "Requirement already satisfied: Send2Trash in /usr/local/lib/python3.8/dist-packages (from notebook>=4.4.1->widgetsnbextension~=3.6.0->ipywidgets<9,>=7.5.0->bqplot) (1.8.0)\n",
            "Requirement already satisfied: nbconvert<6.0 in /usr/local/lib/python3.8/dist-packages (from notebook>=4.4.1->widgetsnbextension~=3.6.0->ipywidgets<9,>=7.5.0->bqplot) (5.6.1)\n",
            "Requirement already satisfied: prometheus-client in /usr/local/lib/python3.8/dist-packages (from notebook>=4.4.1->widgetsnbextension~=3.6.0->ipywidgets<9,>=7.5.0->bqplot) (0.15.0)\n",
            "Requirement already satisfied: pyzmq>=17 in /usr/local/lib/python3.8/dist-packages (from notebook>=4.4.1->widgetsnbextension~=3.6.0->ipywidgets<9,>=7.5.0->bqplot) (23.2.1)\n",
            "Requirement already satisfied: jupyter-core>=4.4.0 in /usr/local/lib/python3.8/dist-packages (from notebook>=4.4.1->widgetsnbextension~=3.6.0->ipywidgets<9,>=7.5.0->bqplot) (5.1.0)\n",
            "Requirement already satisfied: terminado>=0.8.1 in /usr/local/lib/python3.8/dist-packages (from notebook>=4.4.1->widgetsnbextension~=3.6.0->ipywidgets<9,>=7.5.0->bqplot) (0.13.3)\n",
            "Requirement already satisfied: nbformat in /usr/local/lib/python3.8/dist-packages (from notebook>=4.4.1->widgetsnbextension~=3.6.0->ipywidgets<9,>=7.5.0->bqplot) (5.7.0)\n",
            "Requirement already satisfied: MarkupSafe>=0.23 in /usr/local/lib/python3.8/dist-packages (from jinja2<=3.0.0->notebook>=4.4.1->widgetsnbextension~=3.6.0->ipywidgets<9,>=7.5.0->bqplot) (2.0.1)\n",
            "Requirement already satisfied: platformdirs>=2.5 in /usr/local/lib/python3.8/dist-packages (from jupyter-core>=4.4.0->notebook>=4.4.1->widgetsnbextension~=3.6.0->ipywidgets<9,>=7.5.0->bqplot) (2.6.0)\n",
            "Requirement already satisfied: mistune<2,>=0.8.1 in /usr/local/lib/python3.8/dist-packages (from nbconvert<6.0->notebook>=4.4.1->widgetsnbextension~=3.6.0->ipywidgets<9,>=7.5.0->bqplot) (0.8.4)\n",
            "Requirement already satisfied: entrypoints>=0.2.2 in /usr/local/lib/python3.8/dist-packages (from nbconvert<6.0->notebook>=4.4.1->widgetsnbextension~=3.6.0->ipywidgets<9,>=7.5.0->bqplot) (0.4)\n",
            "Requirement already satisfied: bleach in /usr/local/lib/python3.8/dist-packages (from nbconvert<6.0->notebook>=4.4.1->widgetsnbextension~=3.6.0->ipywidgets<9,>=7.5.0->bqplot) (5.0.1)\n",
            "Requirement already satisfied: pandocfilters>=1.4.1 in /usr/local/lib/python3.8/dist-packages (from nbconvert<6.0->notebook>=4.4.1->widgetsnbextension~=3.6.0->ipywidgets<9,>=7.5.0->bqplot) (1.5.0)\n",
            "Requirement already satisfied: defusedxml in /usr/local/lib/python3.8/dist-packages (from nbconvert<6.0->notebook>=4.4.1->widgetsnbextension~=3.6.0->ipywidgets<9,>=7.5.0->bqplot) (0.7.1)\n",
            "Requirement already satisfied: testpath in /usr/local/lib/python3.8/dist-packages (from nbconvert<6.0->notebook>=4.4.1->widgetsnbextension~=3.6.0->ipywidgets<9,>=7.5.0->bqplot) (0.6.0)\n",
            "Requirement already satisfied: jsonschema>=2.6 in /usr/local/lib/python3.8/dist-packages (from nbformat->notebook>=4.4.1->widgetsnbextension~=3.6.0->ipywidgets<9,>=7.5.0->bqplot) (4.3.3)\n",
            "Requirement already satisfied: fastjsonschema in /usr/local/lib/python3.8/dist-packages (from nbformat->notebook>=4.4.1->widgetsnbextension~=3.6.0->ipywidgets<9,>=7.5.0->bqplot) (2.16.2)\n",
            "Requirement already satisfied: pyrsistent!=0.17.0,!=0.17.1,!=0.17.2,>=0.14.0 in /usr/local/lib/python3.8/dist-packages (from jsonschema>=2.6->nbformat->notebook>=4.4.1->widgetsnbextension~=3.6.0->ipywidgets<9,>=7.5.0->bqplot) (0.19.2)\n",
            "Requirement already satisfied: importlib-resources>=1.4.0 in /usr/local/lib/python3.8/dist-packages (from jsonschema>=2.6->nbformat->notebook>=4.4.1->widgetsnbextension~=3.6.0->ipywidgets<9,>=7.5.0->bqplot) (5.10.1)\n",
            "Requirement already satisfied: attrs>=17.4.0 in /usr/local/lib/python3.8/dist-packages (from jsonschema>=2.6->nbformat->notebook>=4.4.1->widgetsnbextension~=3.6.0->ipywidgets<9,>=7.5.0->bqplot) (22.1.0)\n",
            "Requirement already satisfied: zipp>=3.1.0 in /usr/local/lib/python3.8/dist-packages (from importlib-resources>=1.4.0->jsonschema>=2.6->nbformat->notebook>=4.4.1->widgetsnbextension~=3.6.0->ipywidgets<9,>=7.5.0->bqplot) (3.11.0)\n",
            "Requirement already satisfied: ptyprocess in /usr/local/lib/python3.8/dist-packages (from terminado>=0.8.1->notebook>=4.4.1->widgetsnbextension~=3.6.0->ipywidgets<9,>=7.5.0->bqplot) (0.7.0)\n",
            "Requirement already satisfied: webencodings in /usr/local/lib/python3.8/dist-packages (from bleach->nbconvert<6.0->notebook>=4.4.1->widgetsnbextension~=3.6.0->ipywidgets<9,>=7.5.0->bqplot) (0.5.1)\n",
            "Installing collected packages: jedi, traittypes, bqplot\n",
            "Successfully installed bqplot-0.12.36 jedi-0.18.2 traittypes-0.2.1\n"
          ]
        }
      ],
      "source": [
        "pip install bqplot"
      ]
    },
    {
      "cell_type": "code",
      "execution_count": 4,
      "metadata": {
        "colab": {
          "base_uri": "https://localhost:8080/"
        },
        "id": "d-hfzg-7NJzi",
        "outputId": "588a6716-df57-40bd-f182-d4d9ca4cf846"
      },
      "outputs": [
        {
          "output_type": "stream",
          "name": "stdout",
          "text": [
            "Looking in indexes: https://pypi.org/simple, https://us-python.pkg.dev/colab-wheels/public/simple/\n",
            "Requirement already satisfied: matplotlib in /usr/local/lib/python3.8/dist-packages (3.2.2)\n",
            "Requirement already satisfied: numpy>=1.11 in /usr/local/lib/python3.8/dist-packages (from matplotlib) (1.21.6)\n",
            "Requirement already satisfied: pyparsing!=2.0.4,!=2.1.2,!=2.1.6,>=2.0.1 in /usr/local/lib/python3.8/dist-packages (from matplotlib) (3.0.9)\n",
            "Requirement already satisfied: cycler>=0.10 in /usr/local/lib/python3.8/dist-packages (from matplotlib) (0.11.0)\n",
            "Requirement already satisfied: kiwisolver>=1.0.1 in /usr/local/lib/python3.8/dist-packages (from matplotlib) (1.4.4)\n",
            "Requirement already satisfied: python-dateutil>=2.1 in /usr/local/lib/python3.8/dist-packages (from matplotlib) (2.8.2)\n",
            "Requirement already satisfied: six>=1.5 in /usr/local/lib/python3.8/dist-packages (from python-dateutil>=2.1->matplotlib) (1.15.0)\n"
          ]
        }
      ],
      "source": [
        "pip install matplotlib"
      ]
    },
    {
      "cell_type": "code",
      "execution_count": 5,
      "metadata": {
        "colab": {
          "base_uri": "https://localhost:8080/"
        },
        "id": "UluknCRlNNe5",
        "outputId": "d79c5aff-f70e-4a01-8524-0a04187becae"
      },
      "outputs": [
        {
          "output_type": "stream",
          "name": "stdout",
          "text": [
            "Looking in indexes: https://pypi.org/simple, https://us-python.pkg.dev/colab-wheels/public/simple/\n",
            "Requirement already satisfied: ipywidgets in /usr/local/lib/python3.8/dist-packages (7.7.1)\n",
            "Requirement already satisfied: widgetsnbextension~=3.6.0 in /usr/local/lib/python3.8/dist-packages (from ipywidgets) (3.6.1)\n",
            "Requirement already satisfied: ipython-genutils~=0.2.0 in /usr/local/lib/python3.8/dist-packages (from ipywidgets) (0.2.0)\n",
            "Requirement already satisfied: traitlets>=4.3.1 in /usr/local/lib/python3.8/dist-packages (from ipywidgets) (5.7.1)\n",
            "Requirement already satisfied: jupyterlab-widgets>=1.0.0 in /usr/local/lib/python3.8/dist-packages (from ipywidgets) (3.0.4)\n",
            "Requirement already satisfied: ipykernel>=4.5.1 in /usr/local/lib/python3.8/dist-packages (from ipywidgets) (5.3.4)\n",
            "Requirement already satisfied: ipython>=4.0.0 in /usr/local/lib/python3.8/dist-packages (from ipywidgets) (7.9.0)\n",
            "Requirement already satisfied: jupyter-client in /usr/local/lib/python3.8/dist-packages (from ipykernel>=4.5.1->ipywidgets) (6.1.12)\n",
            "Requirement already satisfied: tornado>=4.2 in /usr/local/lib/python3.8/dist-packages (from ipykernel>=4.5.1->ipywidgets) (6.0.4)\n",
            "Requirement already satisfied: pexpect in /usr/local/lib/python3.8/dist-packages (from ipython>=4.0.0->ipywidgets) (4.8.0)\n",
            "Requirement already satisfied: decorator in /usr/local/lib/python3.8/dist-packages (from ipython>=4.0.0->ipywidgets) (4.4.2)\n",
            "Requirement already satisfied: pygments in /usr/local/lib/python3.8/dist-packages (from ipython>=4.0.0->ipywidgets) (2.6.1)\n",
            "Requirement already satisfied: pickleshare in /usr/local/lib/python3.8/dist-packages (from ipython>=4.0.0->ipywidgets) (0.7.5)\n",
            "Requirement already satisfied: jedi>=0.10 in /usr/local/lib/python3.8/dist-packages (from ipython>=4.0.0->ipywidgets) (0.18.2)\n",
            "Requirement already satisfied: prompt-toolkit<2.1.0,>=2.0.0 in /usr/local/lib/python3.8/dist-packages (from ipython>=4.0.0->ipywidgets) (2.0.10)\n",
            "Requirement already satisfied: setuptools>=18.5 in /usr/local/lib/python3.8/dist-packages (from ipython>=4.0.0->ipywidgets) (57.4.0)\n",
            "Requirement already satisfied: backcall in /usr/local/lib/python3.8/dist-packages (from ipython>=4.0.0->ipywidgets) (0.2.0)\n",
            "Requirement already satisfied: parso<0.9.0,>=0.8.0 in /usr/local/lib/python3.8/dist-packages (from jedi>=0.10->ipython>=4.0.0->ipywidgets) (0.8.3)\n",
            "Requirement already satisfied: wcwidth in /usr/local/lib/python3.8/dist-packages (from prompt-toolkit<2.1.0,>=2.0.0->ipython>=4.0.0->ipywidgets) (0.2.5)\n",
            "Requirement already satisfied: six>=1.9.0 in /usr/local/lib/python3.8/dist-packages (from prompt-toolkit<2.1.0,>=2.0.0->ipython>=4.0.0->ipywidgets) (1.15.0)\n",
            "Requirement already satisfied: notebook>=4.4.1 in /usr/local/lib/python3.8/dist-packages (from widgetsnbextension~=3.6.0->ipywidgets) (5.7.16)\n",
            "Requirement already satisfied: nbconvert<6.0 in /usr/local/lib/python3.8/dist-packages (from notebook>=4.4.1->widgetsnbextension~=3.6.0->ipywidgets) (5.6.1)\n",
            "Requirement already satisfied: terminado>=0.8.1 in /usr/local/lib/python3.8/dist-packages (from notebook>=4.4.1->widgetsnbextension~=3.6.0->ipywidgets) (0.13.3)\n",
            "Requirement already satisfied: pyzmq>=17 in /usr/local/lib/python3.8/dist-packages (from notebook>=4.4.1->widgetsnbextension~=3.6.0->ipywidgets) (23.2.1)\n",
            "Requirement already satisfied: jupyter-core>=4.4.0 in /usr/local/lib/python3.8/dist-packages (from notebook>=4.4.1->widgetsnbextension~=3.6.0->ipywidgets) (5.1.0)\n",
            "Requirement already satisfied: nbformat in /usr/local/lib/python3.8/dist-packages (from notebook>=4.4.1->widgetsnbextension~=3.6.0->ipywidgets) (5.7.0)\n",
            "Requirement already satisfied: jinja2<=3.0.0 in /usr/local/lib/python3.8/dist-packages (from notebook>=4.4.1->widgetsnbextension~=3.6.0->ipywidgets) (2.11.3)\n",
            "Requirement already satisfied: Send2Trash in /usr/local/lib/python3.8/dist-packages (from notebook>=4.4.1->widgetsnbextension~=3.6.0->ipywidgets) (1.8.0)\n",
            "Requirement already satisfied: prometheus-client in /usr/local/lib/python3.8/dist-packages (from notebook>=4.4.1->widgetsnbextension~=3.6.0->ipywidgets) (0.15.0)\n",
            "Requirement already satisfied: MarkupSafe>=0.23 in /usr/local/lib/python3.8/dist-packages (from jinja2<=3.0.0->notebook>=4.4.1->widgetsnbextension~=3.6.0->ipywidgets) (2.0.1)\n",
            "Requirement already satisfied: python-dateutil>=2.1 in /usr/local/lib/python3.8/dist-packages (from jupyter-client->ipykernel>=4.5.1->ipywidgets) (2.8.2)\n",
            "Requirement already satisfied: platformdirs>=2.5 in /usr/local/lib/python3.8/dist-packages (from jupyter-core>=4.4.0->notebook>=4.4.1->widgetsnbextension~=3.6.0->ipywidgets) (2.6.0)\n",
            "Requirement already satisfied: bleach in /usr/local/lib/python3.8/dist-packages (from nbconvert<6.0->notebook>=4.4.1->widgetsnbextension~=3.6.0->ipywidgets) (5.0.1)\n",
            "Requirement already satisfied: pandocfilters>=1.4.1 in /usr/local/lib/python3.8/dist-packages (from nbconvert<6.0->notebook>=4.4.1->widgetsnbextension~=3.6.0->ipywidgets) (1.5.0)\n",
            "Requirement already satisfied: defusedxml in /usr/local/lib/python3.8/dist-packages (from nbconvert<6.0->notebook>=4.4.1->widgetsnbextension~=3.6.0->ipywidgets) (0.7.1)\n",
            "Requirement already satisfied: mistune<2,>=0.8.1 in /usr/local/lib/python3.8/dist-packages (from nbconvert<6.0->notebook>=4.4.1->widgetsnbextension~=3.6.0->ipywidgets) (0.8.4)\n",
            "Requirement already satisfied: entrypoints>=0.2.2 in /usr/local/lib/python3.8/dist-packages (from nbconvert<6.0->notebook>=4.4.1->widgetsnbextension~=3.6.0->ipywidgets) (0.4)\n",
            "Requirement already satisfied: testpath in /usr/local/lib/python3.8/dist-packages (from nbconvert<6.0->notebook>=4.4.1->widgetsnbextension~=3.6.0->ipywidgets) (0.6.0)\n",
            "Requirement already satisfied: jsonschema>=2.6 in /usr/local/lib/python3.8/dist-packages (from nbformat->notebook>=4.4.1->widgetsnbextension~=3.6.0->ipywidgets) (4.3.3)\n",
            "Requirement already satisfied: fastjsonschema in /usr/local/lib/python3.8/dist-packages (from nbformat->notebook>=4.4.1->widgetsnbextension~=3.6.0->ipywidgets) (2.16.2)\n",
            "Requirement already satisfied: importlib-resources>=1.4.0 in /usr/local/lib/python3.8/dist-packages (from jsonschema>=2.6->nbformat->notebook>=4.4.1->widgetsnbextension~=3.6.0->ipywidgets) (5.10.1)\n",
            "Requirement already satisfied: pyrsistent!=0.17.0,!=0.17.1,!=0.17.2,>=0.14.0 in /usr/local/lib/python3.8/dist-packages (from jsonschema>=2.6->nbformat->notebook>=4.4.1->widgetsnbextension~=3.6.0->ipywidgets) (0.19.2)\n",
            "Requirement already satisfied: attrs>=17.4.0 in /usr/local/lib/python3.8/dist-packages (from jsonschema>=2.6->nbformat->notebook>=4.4.1->widgetsnbextension~=3.6.0->ipywidgets) (22.1.0)\n",
            "Requirement already satisfied: zipp>=3.1.0 in /usr/local/lib/python3.8/dist-packages (from importlib-resources>=1.4.0->jsonschema>=2.6->nbformat->notebook>=4.4.1->widgetsnbextension~=3.6.0->ipywidgets) (3.11.0)\n",
            "Requirement already satisfied: ptyprocess in /usr/local/lib/python3.8/dist-packages (from terminado>=0.8.1->notebook>=4.4.1->widgetsnbextension~=3.6.0->ipywidgets) (0.7.0)\n",
            "Requirement already satisfied: webencodings in /usr/local/lib/python3.8/dist-packages (from bleach->nbconvert<6.0->notebook>=4.4.1->widgetsnbextension~=3.6.0->ipywidgets) (0.5.1)\n"
          ]
        }
      ],
      "source": [
        "pip install ipywidgets"
      ]
    },
    {
      "cell_type": "code",
      "execution_count": 6,
      "metadata": {
        "colab": {
          "base_uri": "https://localhost:8080/",
          "height": 1000
        },
        "id": "5stY1saJNPMV",
        "outputId": "2f260000-6441-4a1d-d9aa-2f66fcd2fd7a"
      },
      "outputs": [
        {
          "output_type": "stream",
          "name": "stdout",
          "text": [
            "Looking in indexes: https://pypi.org/simple, https://us-python.pkg.dev/colab-wheels/public/simple/\n",
            "Collecting osmnx\n",
            "  Downloading osmnx-1.2.2-py2.py3-none-any.whl (92 kB)\n",
            "\u001b[?25l\r\u001b[K     |███▌                            | 10 kB 23.8 MB/s eta 0:00:01\r\u001b[K     |███████                         | 20 kB 10.3 MB/s eta 0:00:01\r\u001b[K     |██████████▋                     | 30 kB 14.4 MB/s eta 0:00:01\r\u001b[K     |██████████████▏                 | 40 kB 6.4 MB/s eta 0:00:01\r\u001b[K     |█████████████████▊              | 51 kB 5.5 MB/s eta 0:00:01\r\u001b[K     |█████████████████████▎          | 61 kB 6.5 MB/s eta 0:00:01\r\u001b[K     |████████████████████████▉       | 71 kB 7.4 MB/s eta 0:00:01\r\u001b[K     |████████████████████████████▍   | 81 kB 8.3 MB/s eta 0:00:01\r\u001b[K     |████████████████████████████████| 92 kB 7.8 MB/s eta 0:00:01\r\u001b[K     |████████████████████████████████| 92 kB 415 kB/s \n",
            "\u001b[?25hRequirement already satisfied: requests>=2.28 in /usr/local/lib/python3.8/dist-packages (from osmnx) (2.28.1)\n",
            "Requirement already satisfied: networkx>=2.8 in /usr/local/lib/python3.8/dist-packages (from osmnx) (2.8.8)\n",
            "Requirement already satisfied: pyproj>=3.3 in /usr/local/lib/python3.8/dist-packages (from osmnx) (3.4.1)\n",
            "Collecting matplotlib>=3.5\n",
            "  Downloading matplotlib-3.6.2-cp38-cp38-manylinux_2_12_x86_64.manylinux2010_x86_64.whl (9.4 MB)\n",
            "\u001b[K     |████████████████████████████████| 9.4 MB 48.1 MB/s \n",
            "\u001b[?25hCollecting pandas>=1.4\n",
            "  Downloading pandas-1.5.2-cp38-cp38-manylinux_2_17_x86_64.manylinux2014_x86_64.whl (12.2 MB)\n",
            "\u001b[K     |████████████████████████████████| 12.2 MB 51.4 MB/s \n",
            "\u001b[?25hCollecting numpy>=1.22\n",
            "  Downloading numpy-1.23.5-cp38-cp38-manylinux_2_17_x86_64.manylinux2014_x86_64.whl (17.1 MB)\n",
            "\u001b[K     |████████████████████████████████| 17.1 MB 63.7 MB/s \n",
            "\u001b[?25hRequirement already satisfied: geopandas>=0.11 in /usr/local/lib/python3.8/dist-packages (from osmnx) (0.12.2)\n",
            "Collecting Shapely<2.0,>=1.8\n",
            "  Downloading Shapely-1.8.5.post1-cp38-cp38-manylinux_2_12_x86_64.manylinux2010_x86_64.whl (2.1 MB)\n",
            "\u001b[K     |████████████████████████████████| 2.1 MB 72.7 MB/s \n",
            "\u001b[?25hCollecting Rtree>=1.0\n",
            "  Downloading Rtree-1.0.1-cp38-cp38-manylinux_2_17_x86_64.manylinux2014_x86_64.whl (1.0 MB)\n",
            "\u001b[K     |████████████████████████████████| 1.0 MB 45.6 MB/s \n",
            "\u001b[?25hRequirement already satisfied: packaging in /usr/local/lib/python3.8/dist-packages (from geopandas>=0.11->osmnx) (21.3)\n",
            "Requirement already satisfied: fiona>=1.8 in /usr/local/lib/python3.8/dist-packages (from geopandas>=0.11->osmnx) (1.8.22)\n",
            "Requirement already satisfied: setuptools in /usr/local/lib/python3.8/dist-packages (from fiona>=1.8->geopandas>=0.11->osmnx) (57.4.0)\n",
            "Requirement already satisfied: cligj>=0.5 in /usr/local/lib/python3.8/dist-packages (from fiona>=1.8->geopandas>=0.11->osmnx) (0.7.2)\n",
            "Requirement already satisfied: munch in /usr/local/lib/python3.8/dist-packages (from fiona>=1.8->geopandas>=0.11->osmnx) (2.5.0)\n",
            "Requirement already satisfied: click>=4.0 in /usr/local/lib/python3.8/dist-packages (from fiona>=1.8->geopandas>=0.11->osmnx) (7.1.2)\n",
            "Requirement already satisfied: click-plugins>=1.0 in /usr/local/lib/python3.8/dist-packages (from fiona>=1.8->geopandas>=0.11->osmnx) (1.1.1)\n",
            "Requirement already satisfied: six>=1.7 in /usr/local/lib/python3.8/dist-packages (from fiona>=1.8->geopandas>=0.11->osmnx) (1.15.0)\n",
            "Requirement already satisfied: certifi in /usr/local/lib/python3.8/dist-packages (from fiona>=1.8->geopandas>=0.11->osmnx) (2022.12.7)\n",
            "Requirement already satisfied: attrs>=17 in /usr/local/lib/python3.8/dist-packages (from fiona>=1.8->geopandas>=0.11->osmnx) (22.1.0)\n",
            "Requirement already satisfied: pyparsing>=2.2.1 in /usr/local/lib/python3.8/dist-packages (from matplotlib>=3.5->osmnx) (3.0.9)\n",
            "Requirement already satisfied: cycler>=0.10 in /usr/local/lib/python3.8/dist-packages (from matplotlib>=3.5->osmnx) (0.11.0)\n",
            "Collecting contourpy>=1.0.1\n",
            "  Downloading contourpy-1.0.6-cp38-cp38-manylinux_2_17_x86_64.manylinux2014_x86_64.whl (295 kB)\n",
            "\u001b[K     |████████████████████████████████| 295 kB 76.0 MB/s \n",
            "\u001b[?25hRequirement already satisfied: kiwisolver>=1.0.1 in /usr/local/lib/python3.8/dist-packages (from matplotlib>=3.5->osmnx) (1.4.4)\n",
            "Collecting fonttools>=4.22.0\n",
            "  Downloading fonttools-4.38.0-py3-none-any.whl (965 kB)\n",
            "\u001b[K     |████████████████████████████████| 965 kB 75.1 MB/s \n",
            "\u001b[?25hRequirement already satisfied: pillow>=6.2.0 in /usr/local/lib/python3.8/dist-packages (from matplotlib>=3.5->osmnx) (7.1.2)\n",
            "Requirement already satisfied: python-dateutil>=2.7 in /usr/local/lib/python3.8/dist-packages (from matplotlib>=3.5->osmnx) (2.8.2)\n",
            "Requirement already satisfied: pytz>=2020.1 in /usr/local/lib/python3.8/dist-packages (from pandas>=1.4->osmnx) (2022.6)\n",
            "Requirement already satisfied: urllib3<1.27,>=1.21.1 in /usr/local/lib/python3.8/dist-packages (from requests>=2.28->osmnx) (1.24.3)\n",
            "Requirement already satisfied: idna<4,>=2.5 in /usr/local/lib/python3.8/dist-packages (from requests>=2.28->osmnx) (2.10)\n",
            "Requirement already satisfied: charset-normalizer<3,>=2 in /usr/local/lib/python3.8/dist-packages (from requests>=2.28->osmnx) (2.1.1)\n",
            "Installing collected packages: numpy, Shapely, pandas, fonttools, contourpy, Rtree, matplotlib, osmnx\n",
            "  Attempting uninstall: numpy\n",
            "    Found existing installation: numpy 1.21.6\n",
            "    Uninstalling numpy-1.21.6:\n",
            "      Successfully uninstalled numpy-1.21.6\n",
            "  Attempting uninstall: Shapely\n",
            "    Found existing installation: shapely 2.0.0\n",
            "    Uninstalling shapely-2.0.0:\n",
            "      Successfully uninstalled shapely-2.0.0\n",
            "  Attempting uninstall: pandas\n",
            "    Found existing installation: pandas 1.3.5\n",
            "    Uninstalling pandas-1.3.5:\n",
            "      Successfully uninstalled pandas-1.3.5\n",
            "  Attempting uninstall: matplotlib\n",
            "    Found existing installation: matplotlib 3.2.2\n",
            "    Uninstalling matplotlib-3.2.2:\n",
            "      Successfully uninstalled matplotlib-3.2.2\n",
            "\u001b[31mERROR: pip's dependency resolver does not currently take into account all the packages that are installed. This behaviour is the source of the following dependency conflicts.\n",
            "scipy 1.7.3 requires numpy<1.23.0,>=1.16.5, but you have numpy 1.23.5 which is incompatible.\u001b[0m\n",
            "Successfully installed Rtree-1.0.1 Shapely-1.8.5.post1 contourpy-1.0.6 fonttools-4.38.0 matplotlib-3.6.2 numpy-1.23.5 osmnx-1.2.2 pandas-1.5.2\n"
          ]
        },
        {
          "output_type": "display_data",
          "data": {
            "application/vnd.colab-display-data+json": {
              "pip_warning": {
                "packages": [
                  "matplotlib",
                  "mpl_toolkits",
                  "numpy"
                ]
              }
            }
          },
          "metadata": {}
        }
      ],
      "source": [
        "pip install osmnx"
      ]
    },
    {
      "cell_type": "code",
      "execution_count": 7,
      "metadata": {
        "colab": {
          "base_uri": "https://localhost:8080/"
        },
        "id": "Ue7LMXrNj6cX",
        "outputId": "a6160db0-3c40-46db-b56a-58331aab0c50"
      },
      "outputs": [
        {
          "output_type": "stream",
          "name": "stdout",
          "text": [
            "Looking in indexes: https://pypi.org/simple, https://us-python.pkg.dev/colab-wheels/public/simple/\n",
            "Requirement already satisfied: matplotlib in /usr/local/lib/python3.8/dist-packages (3.6.2)\n",
            "Requirement already satisfied: packaging>=20.0 in /usr/local/lib/python3.8/dist-packages (from matplotlib) (21.3)\n",
            "Requirement already satisfied: fonttools>=4.22.0 in /usr/local/lib/python3.8/dist-packages (from matplotlib) (4.38.0)\n",
            "Requirement already satisfied: kiwisolver>=1.0.1 in /usr/local/lib/python3.8/dist-packages (from matplotlib) (1.4.4)\n",
            "Requirement already satisfied: pyparsing>=2.2.1 in /usr/local/lib/python3.8/dist-packages (from matplotlib) (3.0.9)\n",
            "Requirement already satisfied: cycler>=0.10 in /usr/local/lib/python3.8/dist-packages (from matplotlib) (0.11.0)\n",
            "Requirement already satisfied: pillow>=6.2.0 in /usr/local/lib/python3.8/dist-packages (from matplotlib) (7.1.2)\n",
            "Requirement already satisfied: contourpy>=1.0.1 in /usr/local/lib/python3.8/dist-packages (from matplotlib) (1.0.6)\n",
            "Requirement already satisfied: numpy>=1.19 in /usr/local/lib/python3.8/dist-packages (from matplotlib) (1.23.5)\n",
            "Requirement already satisfied: python-dateutil>=2.7 in /usr/local/lib/python3.8/dist-packages (from matplotlib) (2.8.2)\n",
            "Requirement already satisfied: six>=1.5 in /usr/local/lib/python3.8/dist-packages (from python-dateutil>=2.7->matplotlib) (1.15.0)\n"
          ]
        }
      ],
      "source": [
        "pip install matplotlib"
      ]
    },
    {
      "cell_type": "code",
      "execution_count": 8,
      "metadata": {
        "colab": {
          "base_uri": "https://localhost:8080/"
        },
        "id": "f_ZBy8b-pXYH",
        "outputId": "87159b26-09ce-4b3c-a109-61d7541f4610"
      },
      "outputs": [
        {
          "output_type": "stream",
          "name": "stdout",
          "text": [
            "Looking in indexes: https://pypi.org/simple, https://us-python.pkg.dev/colab-wheels/public/simple/\n",
            "Requirement already satisfied: plotly in /usr/local/lib/python3.8/dist-packages (5.5.0)\n",
            "Requirement already satisfied: six in /usr/local/lib/python3.8/dist-packages (from plotly) (1.15.0)\n",
            "Requirement already satisfied: tenacity>=6.2.0 in /usr/local/lib/python3.8/dist-packages (from plotly) (8.1.0)\n"
          ]
        }
      ],
      "source": [
        "pip install plotly"
      ]
    },
    {
      "cell_type": "code",
      "execution_count": 9,
      "metadata": {
        "colab": {
          "base_uri": "https://localhost:8080/"
        },
        "id": "VBNZdTn-0EKY",
        "outputId": "64eb4c5d-f079-460b-a691-6855de74ba2f"
      },
      "outputs": [
        {
          "output_type": "stream",
          "name": "stdout",
          "text": [
            "Looking in indexes: https://pypi.org/simple, https://us-python.pkg.dev/colab-wheels/public/simple/\n",
            "Collecting dash\n",
            "  Downloading dash-2.7.1-py3-none-any.whl (9.9 MB)\n",
            "\u001b[K     |████████████████████████████████| 9.9 MB 6.4 MB/s \n",
            "\u001b[?25hRequirement already satisfied: Flask>=1.0.4 in /usr/local/lib/python3.8/dist-packages (from dash) (1.1.4)\n",
            "Collecting dash-html-components==2.0.0\n",
            "  Downloading dash_html_components-2.0.0-py3-none-any.whl (4.1 kB)\n",
            "Requirement already satisfied: plotly>=5.0.0 in /usr/local/lib/python3.8/dist-packages (from dash) (5.5.0)\n",
            "Collecting dash-core-components==2.0.0\n",
            "  Downloading dash_core_components-2.0.0-py3-none-any.whl (3.8 kB)\n",
            "Collecting dash-table==5.0.0\n",
            "  Downloading dash_table-5.0.0-py3-none-any.whl (3.9 kB)\n",
            "Requirement already satisfied: Jinja2<3.0,>=2.10.1 in /usr/local/lib/python3.8/dist-packages (from Flask>=1.0.4->dash) (2.11.3)\n",
            "Requirement already satisfied: itsdangerous<2.0,>=0.24 in /usr/local/lib/python3.8/dist-packages (from Flask>=1.0.4->dash) (1.1.0)\n",
            "Requirement already satisfied: click<8.0,>=5.1 in /usr/local/lib/python3.8/dist-packages (from Flask>=1.0.4->dash) (7.1.2)\n",
            "Requirement already satisfied: Werkzeug<2.0,>=0.15 in /usr/local/lib/python3.8/dist-packages (from Flask>=1.0.4->dash) (1.0.1)\n",
            "Requirement already satisfied: MarkupSafe>=0.23 in /usr/local/lib/python3.8/dist-packages (from Jinja2<3.0,>=2.10.1->Flask>=1.0.4->dash) (2.0.1)\n",
            "Requirement already satisfied: six in /usr/local/lib/python3.8/dist-packages (from plotly>=5.0.0->dash) (1.15.0)\n",
            "Requirement already satisfied: tenacity>=6.2.0 in /usr/local/lib/python3.8/dist-packages (from plotly>=5.0.0->dash) (8.1.0)\n",
            "Installing collected packages: dash-table, dash-html-components, dash-core-components, dash\n",
            "Successfully installed dash-2.7.1 dash-core-components-2.0.0 dash-html-components-2.0.0 dash-table-5.0.0\n"
          ]
        }
      ],
      "source": [
        "pip install dash"
      ]
    },
    {
      "cell_type": "code",
      "execution_count": 10,
      "metadata": {
        "id": "Gg4BNk4GNbhh"
      },
      "outputs": [],
      "source": [
        "import pandas as pd\n",
        "import matplotlib.pyplot as plt \n",
        "import numpy as np \n",
        "import geopandas as gpd\n",
        "import requests\n",
        "import bqplot\n",
        "import ipywidgets\n",
        "import ipywidgets as widgets\n",
        "import plotly.express as px\n",
        "import plotly.graph_objects as go\n",
        "import osmnx as ox\n",
        "from shapely.geometry import Point\n",
        "from sodapy import Socrata\n",
        "from dash import Dash, dcc, html, Input, Output"
      ]
    },
    {
      "cell_type": "code",
      "execution_count": 11,
      "metadata": {
        "id": "EJyaLQtHaSs3"
      },
      "outputs": [],
      "source": [
        "#button code\n",
        "#this creates a function getdata - getdata will collect the data from the source\n",
        "#on button clicked is what is called when the button is clicked \n",
        "\n",
        "out = ipywidgets.Output(laylout = {'border': '1px solid black'})\n",
        "data = []\n",
        "def getdata(): \n",
        "\n",
        "#Drishti code: \n",
        "\n",
        "  # Unauthenticated client only works with public data sets. Note 'None'\n",
        "# in place of application token, and no username or password:\n",
        "  client = Socrata(\"data.cityofnewyork.us\", None)\n",
        "\n",
        "# Example authenticated client (needed for non-public datasets):\n",
        "# client = Socrata(data.cityofnewyork.us,\n",
        "#                  MyAppToken,\n",
        "#                  username=\"user@example.com\",\n",
        "#                  password=\"AFakePassword\")\n",
        "\n",
        "# First 2000 results, returned as JSON from API / converted to Python list of\n",
        "# dictionaries by sodapy.\n",
        "  results = client.get(\"4dx7-axux\", limit=2000)\n",
        "\n",
        "# Convert to pandas DataFrame\n",
        "  results_df = pd.DataFrame.from_records(results)\n",
        "\n",
        "\n",
        "#Sam code:\n",
        "  for i in results_df:\n",
        "    data.append(results_df[i])\n",
        "  return results_df\n",
        "  \n",
        "#sam\n",
        "def on_button_clicked(b):\n",
        "  getdata()\n",
        "  with out:\n",
        "    print('button clicked')"
      ]
    },
    {
      "cell_type": "code",
      "execution_count": 12,
      "metadata": {
        "colab": {
          "base_uri": "https://localhost:8080/",
          "height": 84,
          "referenced_widgets": [
            "b41966c3191946a98349cb5e4560f625",
            "e5d37ff344cc496b9c22e2f3049f53ab",
            "849f462d04364a7bb6f6ac8660529ffa",
            "667b129c03fd4a459430b1c5d0d3549d",
            "086bcd4b72c14699a8c1e2990d30400c"
          ]
        },
        "id": "SurxnkSlh451",
        "outputId": "c903af87-56b0-4d02-8e1f-43e1cf4b0493"
      },
      "outputs": [
        {
          "output_type": "display_data",
          "data": {
            "text/plain": [
              "Button(description='Get Data', icon='check', style=ButtonStyle(), tooltip='Get Data')"
            ],
            "application/vnd.jupyter.widget-view+json": {
              "version_major": 2,
              "version_minor": 0,
              "model_id": "b41966c3191946a98349cb5e4560f625"
            }
          },
          "metadata": {}
        },
        {
          "output_type": "display_data",
          "data": {
            "text/plain": [
              "Output()"
            ],
            "application/vnd.jupyter.widget-view+json": {
              "version_major": 2,
              "version_minor": 0,
              "model_id": "667b129c03fd4a459430b1c5d0d3549d"
            }
          },
          "metadata": {}
        },
        {
          "output_type": "stream",
          "name": "stderr",
          "text": [
            "WARNING:root:Requests made without an app_token will be subject to strict throttling limits.\n"
          ]
        }
      ],
      "source": [
        "#create a button that runs getdata() (sam)\n",
        "button = ipywidgets.Button(\n",
        "    description = 'Get Data', \n",
        "    disabled = False, \n",
        "    button_style = '', \n",
        "    tooltip = 'Get Data',\n",
        "    icon = 'check', \n",
        ")\n",
        "display(button, out)\n",
        "\n",
        "button.on_click(on_button_clicked)"
      ]
    },
    {
      "cell_type": "code",
      "execution_count": 15,
      "metadata": {
        "colab": {
          "base_uri": "https://localhost:8080/",
          "height": 939
        },
        "id": "zKa5GDUoiS-b",
        "outputId": "405b3fb7-485d-46f3-cd83-8e24869f9500"
      },
      "outputs": [
        {
          "output_type": "execute_result",
          "data": {
            "text/plain": [
              "        borough             restaurantname seatingchoice  \\\n",
              "0     Manhattan                Oscar Wilde          both   \n",
              "1     Manhattan        LA RUBIA RESTAURANT          both   \n",
              "2     Manhattan               Thai Sliders      sidewalk   \n",
              "3      Brooklyn                      Otway          both   \n",
              "4      Brooklyn  WILLIAMSBURG THAI CUISINE          both   \n",
              "...         ...                        ...           ...   \n",
              "1995  Manhattan  Tiny's & The Bar Upstairs          both   \n",
              "1996     Queens               GOLD N HONEY      sidewalk   \n",
              "1997  Manhattan               Yakiniku Gen      sidewalk   \n",
              "1998  Manhattan   Totto Ramen Midtown East      sidewalk   \n",
              "1999     Queens           Bund on Broadway          both   \n",
              "\n",
              "                     legalbusinessname       businessaddress  \\\n",
              "0                   Camelot Castle LLC      45  West 27th st   \n",
              "1              LA RUBIA RESTAURANT INC         3517 BROADWAY   \n",
              "2                       Silom Thai Inc         150   8th Ave   \n",
              "3                     St james 930 LLC     930 Fulton street   \n",
              "4     WILLIAMSBURG THAI CUISINE NY INC    212 BEDFORD AVENUE   \n",
              "...                                ...                   ...   \n",
              "1995       135 West B Food & Drink LLC    135  West Broadway   \n",
              "1996                  GOLD N HONEY LLC     2503 DITMARS BLVD   \n",
              "1997            Seiwa Chu-Kou USA Corp     250  East 52nd St   \n",
              "1998            New Season Foods Corp.  248 East 52nd Street   \n",
              "1999  Bund on Broadway & Company, Inc.      25 - 08 Broadway   \n",
              "\n",
              "     restaurantinspectionid isroadwaycompliant              inspectedon  \\\n",
              "0                     72891      Non-Compliant  2021-12-20T16:06:58.000   \n",
              "1                     72892    For HIQA Review  2021-12-20T16:18:42.000   \n",
              "2                     72893      Non-Compliant  2021-12-20T16:35:41.000   \n",
              "3                     72894   Cease and Desist  2021-12-20T16:38:45.000   \n",
              "4                     72896          Compliant  2021-12-20T16:52:41.000   \n",
              "...                     ...                ...                      ...   \n",
              "1995                  75039      Non-Compliant  2022-02-18T12:49:01.000   \n",
              "1996                  75040      Non-Compliant  2022-02-18T12:52:47.000   \n",
              "1997                  75041      Non-Compliant  2022-02-18T12:55:31.000   \n",
              "1998                  75042   Cease and Desist  2022-02-18T12:56:14.000   \n",
              "1999                  75043   Cease and Desist  2022-02-18T13:05:47.000   \n",
              "\n",
              "     agencycode postcode   latitude   longitude communityboard  \\\n",
              "0           DOT    10001  40.744876  -73.989657              5   \n",
              "1           DOT    10031  40.825863  -73.950874              9   \n",
              "2           DOT    10011  40.741906  -74.000945              4   \n",
              "3           DOT    11238  40.682833  -73.963833              2   \n",
              "4           DOT    11249  40.716913  -73.958728              1   \n",
              "...         ...      ...        ...         ...            ...   \n",
              "1995        DOT    10013  40.716759  -74.008232              1   \n",
              "1996        DOT    11105  40.778679  -73.914292              1   \n",
              "1997        DOT    10022  40.756589  -73.968716              6   \n",
              "1998        DOT    10022  40.756603  -73.968749              6   \n",
              "1999        DOT    11106  40.763304  -73.928214              1   \n",
              "\n",
              "     councildistrict censustract      bin         bbl  \\\n",
              "0                  3          58  1015677  1008290011   \n",
              "1                  7         229  1062369  1020910032   \n",
              "2                  3          81  1013845  1007670002   \n",
              "3                 35         201  3335112  3020130038   \n",
              "4                 33         553  3062192  3023350026   \n",
              "...              ...         ...      ...         ...   \n",
              "1995               1          33  1001612  1001470012   \n",
              "1996              22         103  4018356  4008580101   \n",
              "1997               4          98  1038489  1013250131   \n",
              "1998               4          98  1038490  1013250132   \n",
              "1999              22          53  4007156  4005800020   \n",
              "\n",
              "                                             nta skippedreason  \n",
              "0     Hudson Yards-Chelsea-Flatiron-Union Square           NaN  \n",
              "1                               Hamilton Heights           NaN  \n",
              "2     Hudson Yards-Chelsea-Flatiron-Union Square           NaN  \n",
              "3                                   Clinton Hill           NaN  \n",
              "4                          North Side-South Side           NaN  \n",
              "...                                          ...           ...  \n",
              "1995      SoHo-TriBeCa-Civic Center-Little Italy           NaN  \n",
              "1996                                    Steinway           NaN  \n",
              "1997                     Turtle Bay-East Midtown           NaN  \n",
              "1998                     Turtle Bay-East Midtown           NaN  \n",
              "1999                                     Astoria           NaN  \n",
              "\n",
              "[2000 rows x 19 columns]"
            ],
            "text/html": [
              "\n",
              "  <div id=\"df-167fbc98-9223-4925-a199-d7dc68068c75\">\n",
              "    <div class=\"colab-df-container\">\n",
              "      <div>\n",
              "<style scoped>\n",
              "    .dataframe tbody tr th:only-of-type {\n",
              "        vertical-align: middle;\n",
              "    }\n",
              "\n",
              "    .dataframe tbody tr th {\n",
              "        vertical-align: top;\n",
              "    }\n",
              "\n",
              "    .dataframe thead th {\n",
              "        text-align: right;\n",
              "    }\n",
              "</style>\n",
              "<table border=\"1\" class=\"dataframe\">\n",
              "  <thead>\n",
              "    <tr style=\"text-align: right;\">\n",
              "      <th></th>\n",
              "      <th>borough</th>\n",
              "      <th>restaurantname</th>\n",
              "      <th>seatingchoice</th>\n",
              "      <th>legalbusinessname</th>\n",
              "      <th>businessaddress</th>\n",
              "      <th>restaurantinspectionid</th>\n",
              "      <th>isroadwaycompliant</th>\n",
              "      <th>inspectedon</th>\n",
              "      <th>agencycode</th>\n",
              "      <th>postcode</th>\n",
              "      <th>latitude</th>\n",
              "      <th>longitude</th>\n",
              "      <th>communityboard</th>\n",
              "      <th>councildistrict</th>\n",
              "      <th>censustract</th>\n",
              "      <th>bin</th>\n",
              "      <th>bbl</th>\n",
              "      <th>nta</th>\n",
              "      <th>skippedreason</th>\n",
              "    </tr>\n",
              "  </thead>\n",
              "  <tbody>\n",
              "    <tr>\n",
              "      <th>0</th>\n",
              "      <td>Manhattan</td>\n",
              "      <td>Oscar Wilde</td>\n",
              "      <td>both</td>\n",
              "      <td>Camelot Castle LLC</td>\n",
              "      <td>45  West 27th st</td>\n",
              "      <td>72891</td>\n",
              "      <td>Non-Compliant</td>\n",
              "      <td>2021-12-20T16:06:58.000</td>\n",
              "      <td>DOT</td>\n",
              "      <td>10001</td>\n",
              "      <td>40.744876</td>\n",
              "      <td>-73.989657</td>\n",
              "      <td>5</td>\n",
              "      <td>3</td>\n",
              "      <td>58</td>\n",
              "      <td>1015677</td>\n",
              "      <td>1008290011</td>\n",
              "      <td>Hudson Yards-Chelsea-Flatiron-Union Square</td>\n",
              "      <td>NaN</td>\n",
              "    </tr>\n",
              "    <tr>\n",
              "      <th>1</th>\n",
              "      <td>Manhattan</td>\n",
              "      <td>LA RUBIA RESTAURANT</td>\n",
              "      <td>both</td>\n",
              "      <td>LA RUBIA RESTAURANT INC</td>\n",
              "      <td>3517 BROADWAY</td>\n",
              "      <td>72892</td>\n",
              "      <td>For HIQA Review</td>\n",
              "      <td>2021-12-20T16:18:42.000</td>\n",
              "      <td>DOT</td>\n",
              "      <td>10031</td>\n",
              "      <td>40.825863</td>\n",
              "      <td>-73.950874</td>\n",
              "      <td>9</td>\n",
              "      <td>7</td>\n",
              "      <td>229</td>\n",
              "      <td>1062369</td>\n",
              "      <td>1020910032</td>\n",
              "      <td>Hamilton Heights</td>\n",
              "      <td>NaN</td>\n",
              "    </tr>\n",
              "    <tr>\n",
              "      <th>2</th>\n",
              "      <td>Manhattan</td>\n",
              "      <td>Thai Sliders</td>\n",
              "      <td>sidewalk</td>\n",
              "      <td>Silom Thai Inc</td>\n",
              "      <td>150   8th Ave</td>\n",
              "      <td>72893</td>\n",
              "      <td>Non-Compliant</td>\n",
              "      <td>2021-12-20T16:35:41.000</td>\n",
              "      <td>DOT</td>\n",
              "      <td>10011</td>\n",
              "      <td>40.741906</td>\n",
              "      <td>-74.000945</td>\n",
              "      <td>4</td>\n",
              "      <td>3</td>\n",
              "      <td>81</td>\n",
              "      <td>1013845</td>\n",
              "      <td>1007670002</td>\n",
              "      <td>Hudson Yards-Chelsea-Flatiron-Union Square</td>\n",
              "      <td>NaN</td>\n",
              "    </tr>\n",
              "    <tr>\n",
              "      <th>3</th>\n",
              "      <td>Brooklyn</td>\n",
              "      <td>Otway</td>\n",
              "      <td>both</td>\n",
              "      <td>St james 930 LLC</td>\n",
              "      <td>930 Fulton street</td>\n",
              "      <td>72894</td>\n",
              "      <td>Cease and Desist</td>\n",
              "      <td>2021-12-20T16:38:45.000</td>\n",
              "      <td>DOT</td>\n",
              "      <td>11238</td>\n",
              "      <td>40.682833</td>\n",
              "      <td>-73.963833</td>\n",
              "      <td>2</td>\n",
              "      <td>35</td>\n",
              "      <td>201</td>\n",
              "      <td>3335112</td>\n",
              "      <td>3020130038</td>\n",
              "      <td>Clinton Hill</td>\n",
              "      <td>NaN</td>\n",
              "    </tr>\n",
              "    <tr>\n",
              "      <th>4</th>\n",
              "      <td>Brooklyn</td>\n",
              "      <td>WILLIAMSBURG THAI CUISINE</td>\n",
              "      <td>both</td>\n",
              "      <td>WILLIAMSBURG THAI CUISINE NY INC</td>\n",
              "      <td>212 BEDFORD AVENUE</td>\n",
              "      <td>72896</td>\n",
              "      <td>Compliant</td>\n",
              "      <td>2021-12-20T16:52:41.000</td>\n",
              "      <td>DOT</td>\n",
              "      <td>11249</td>\n",
              "      <td>40.716913</td>\n",
              "      <td>-73.958728</td>\n",
              "      <td>1</td>\n",
              "      <td>33</td>\n",
              "      <td>553</td>\n",
              "      <td>3062192</td>\n",
              "      <td>3023350026</td>\n",
              "      <td>North Side-South Side</td>\n",
              "      <td>NaN</td>\n",
              "    </tr>\n",
              "    <tr>\n",
              "      <th>...</th>\n",
              "      <td>...</td>\n",
              "      <td>...</td>\n",
              "      <td>...</td>\n",
              "      <td>...</td>\n",
              "      <td>...</td>\n",
              "      <td>...</td>\n",
              "      <td>...</td>\n",
              "      <td>...</td>\n",
              "      <td>...</td>\n",
              "      <td>...</td>\n",
              "      <td>...</td>\n",
              "      <td>...</td>\n",
              "      <td>...</td>\n",
              "      <td>...</td>\n",
              "      <td>...</td>\n",
              "      <td>...</td>\n",
              "      <td>...</td>\n",
              "      <td>...</td>\n",
              "      <td>...</td>\n",
              "    </tr>\n",
              "    <tr>\n",
              "      <th>1995</th>\n",
              "      <td>Manhattan</td>\n",
              "      <td>Tiny's &amp; The Bar Upstairs</td>\n",
              "      <td>both</td>\n",
              "      <td>135 West B Food &amp; Drink LLC</td>\n",
              "      <td>135  West Broadway</td>\n",
              "      <td>75039</td>\n",
              "      <td>Non-Compliant</td>\n",
              "      <td>2022-02-18T12:49:01.000</td>\n",
              "      <td>DOT</td>\n",
              "      <td>10013</td>\n",
              "      <td>40.716759</td>\n",
              "      <td>-74.008232</td>\n",
              "      <td>1</td>\n",
              "      <td>1</td>\n",
              "      <td>33</td>\n",
              "      <td>1001612</td>\n",
              "      <td>1001470012</td>\n",
              "      <td>SoHo-TriBeCa-Civic Center-Little Italy</td>\n",
              "      <td>NaN</td>\n",
              "    </tr>\n",
              "    <tr>\n",
              "      <th>1996</th>\n",
              "      <td>Queens</td>\n",
              "      <td>GOLD N HONEY</td>\n",
              "      <td>sidewalk</td>\n",
              "      <td>GOLD N HONEY LLC</td>\n",
              "      <td>2503 DITMARS BLVD</td>\n",
              "      <td>75040</td>\n",
              "      <td>Non-Compliant</td>\n",
              "      <td>2022-02-18T12:52:47.000</td>\n",
              "      <td>DOT</td>\n",
              "      <td>11105</td>\n",
              "      <td>40.778679</td>\n",
              "      <td>-73.914292</td>\n",
              "      <td>1</td>\n",
              "      <td>22</td>\n",
              "      <td>103</td>\n",
              "      <td>4018356</td>\n",
              "      <td>4008580101</td>\n",
              "      <td>Steinway</td>\n",
              "      <td>NaN</td>\n",
              "    </tr>\n",
              "    <tr>\n",
              "      <th>1997</th>\n",
              "      <td>Manhattan</td>\n",
              "      <td>Yakiniku Gen</td>\n",
              "      <td>sidewalk</td>\n",
              "      <td>Seiwa Chu-Kou USA Corp</td>\n",
              "      <td>250  East 52nd St</td>\n",
              "      <td>75041</td>\n",
              "      <td>Non-Compliant</td>\n",
              "      <td>2022-02-18T12:55:31.000</td>\n",
              "      <td>DOT</td>\n",
              "      <td>10022</td>\n",
              "      <td>40.756589</td>\n",
              "      <td>-73.968716</td>\n",
              "      <td>6</td>\n",
              "      <td>4</td>\n",
              "      <td>98</td>\n",
              "      <td>1038489</td>\n",
              "      <td>1013250131</td>\n",
              "      <td>Turtle Bay-East Midtown</td>\n",
              "      <td>NaN</td>\n",
              "    </tr>\n",
              "    <tr>\n",
              "      <th>1998</th>\n",
              "      <td>Manhattan</td>\n",
              "      <td>Totto Ramen Midtown East</td>\n",
              "      <td>sidewalk</td>\n",
              "      <td>New Season Foods Corp.</td>\n",
              "      <td>248 East 52nd Street</td>\n",
              "      <td>75042</td>\n",
              "      <td>Cease and Desist</td>\n",
              "      <td>2022-02-18T12:56:14.000</td>\n",
              "      <td>DOT</td>\n",
              "      <td>10022</td>\n",
              "      <td>40.756603</td>\n",
              "      <td>-73.968749</td>\n",
              "      <td>6</td>\n",
              "      <td>4</td>\n",
              "      <td>98</td>\n",
              "      <td>1038490</td>\n",
              "      <td>1013250132</td>\n",
              "      <td>Turtle Bay-East Midtown</td>\n",
              "      <td>NaN</td>\n",
              "    </tr>\n",
              "    <tr>\n",
              "      <th>1999</th>\n",
              "      <td>Queens</td>\n",
              "      <td>Bund on Broadway</td>\n",
              "      <td>both</td>\n",
              "      <td>Bund on Broadway &amp; Company, Inc.</td>\n",
              "      <td>25 - 08 Broadway</td>\n",
              "      <td>75043</td>\n",
              "      <td>Cease and Desist</td>\n",
              "      <td>2022-02-18T13:05:47.000</td>\n",
              "      <td>DOT</td>\n",
              "      <td>11106</td>\n",
              "      <td>40.763304</td>\n",
              "      <td>-73.928214</td>\n",
              "      <td>1</td>\n",
              "      <td>22</td>\n",
              "      <td>53</td>\n",
              "      <td>4007156</td>\n",
              "      <td>4005800020</td>\n",
              "      <td>Astoria</td>\n",
              "      <td>NaN</td>\n",
              "    </tr>\n",
              "  </tbody>\n",
              "</table>\n",
              "<p>2000 rows × 19 columns</p>\n",
              "</div>\n",
              "      <button class=\"colab-df-convert\" onclick=\"convertToInteractive('df-167fbc98-9223-4925-a199-d7dc68068c75')\"\n",
              "              title=\"Convert this dataframe to an interactive table.\"\n",
              "              style=\"display:none;\">\n",
              "        \n",
              "  <svg xmlns=\"http://www.w3.org/2000/svg\" height=\"24px\"viewBox=\"0 0 24 24\"\n",
              "       width=\"24px\">\n",
              "    <path d=\"M0 0h24v24H0V0z\" fill=\"none\"/>\n",
              "    <path d=\"M18.56 5.44l.94 2.06.94-2.06 2.06-.94-2.06-.94-.94-2.06-.94 2.06-2.06.94zm-11 1L8.5 8.5l.94-2.06 2.06-.94-2.06-.94L8.5 2.5l-.94 2.06-2.06.94zm10 10l.94 2.06.94-2.06 2.06-.94-2.06-.94-.94-2.06-.94 2.06-2.06.94z\"/><path d=\"M17.41 7.96l-1.37-1.37c-.4-.4-.92-.59-1.43-.59-.52 0-1.04.2-1.43.59L10.3 9.45l-7.72 7.72c-.78.78-.78 2.05 0 2.83L4 21.41c.39.39.9.59 1.41.59.51 0 1.02-.2 1.41-.59l7.78-7.78 2.81-2.81c.8-.78.8-2.07 0-2.86zM5.41 20L4 18.59l7.72-7.72 1.47 1.35L5.41 20z\"/>\n",
              "  </svg>\n",
              "      </button>\n",
              "      \n",
              "  <style>\n",
              "    .colab-df-container {\n",
              "      display:flex;\n",
              "      flex-wrap:wrap;\n",
              "      gap: 12px;\n",
              "    }\n",
              "\n",
              "    .colab-df-convert {\n",
              "      background-color: #E8F0FE;\n",
              "      border: none;\n",
              "      border-radius: 50%;\n",
              "      cursor: pointer;\n",
              "      display: none;\n",
              "      fill: #1967D2;\n",
              "      height: 32px;\n",
              "      padding: 0 0 0 0;\n",
              "      width: 32px;\n",
              "    }\n",
              "\n",
              "    .colab-df-convert:hover {\n",
              "      background-color: #E2EBFA;\n",
              "      box-shadow: 0px 1px 2px rgba(60, 64, 67, 0.3), 0px 1px 3px 1px rgba(60, 64, 67, 0.15);\n",
              "      fill: #174EA6;\n",
              "    }\n",
              "\n",
              "    [theme=dark] .colab-df-convert {\n",
              "      background-color: #3B4455;\n",
              "      fill: #D2E3FC;\n",
              "    }\n",
              "\n",
              "    [theme=dark] .colab-df-convert:hover {\n",
              "      background-color: #434B5C;\n",
              "      box-shadow: 0px 1px 3px 1px rgba(0, 0, 0, 0.15);\n",
              "      filter: drop-shadow(0px 1px 2px rgba(0, 0, 0, 0.3));\n",
              "      fill: #FFFFFF;\n",
              "    }\n",
              "  </style>\n",
              "\n",
              "      <script>\n",
              "        const buttonEl =\n",
              "          document.querySelector('#df-167fbc98-9223-4925-a199-d7dc68068c75 button.colab-df-convert');\n",
              "        buttonEl.style.display =\n",
              "          google.colab.kernel.accessAllowed ? 'block' : 'none';\n",
              "\n",
              "        async function convertToInteractive(key) {\n",
              "          const element = document.querySelector('#df-167fbc98-9223-4925-a199-d7dc68068c75');\n",
              "          const dataTable =\n",
              "            await google.colab.kernel.invokeFunction('convertToInteractive',\n",
              "                                                     [key], {});\n",
              "          if (!dataTable) return;\n",
              "\n",
              "          const docLinkHtml = 'Like what you see? Visit the ' +\n",
              "            '<a target=\"_blank\" href=https://colab.research.google.com/notebooks/data_table.ipynb>data table notebook</a>'\n",
              "            + ' to learn more about interactive tables.';\n",
              "          element.innerHTML = '';\n",
              "          dataTable['output_type'] = 'display_data';\n",
              "          await google.colab.output.renderOutput(dataTable, element);\n",
              "          const docLink = document.createElement('div');\n",
              "          docLink.innerHTML = docLinkHtml;\n",
              "          element.appendChild(docLink);\n",
              "        }\n",
              "      </script>\n",
              "    </div>\n",
              "  </div>\n",
              "  "
            ]
          },
          "metadata": {},
          "execution_count": 15
        }
      ],
      "source": [
        "#this is the code that is making the data collected after clicking the button into a readable dataframe (sam)\n",
        "d = pd.DataFrame(data)\n",
        "df = pd.DataFrame.transpose(d)\n",
        "df\n",
        "#make sure to click get data before running the rest of the code!"
      ]
    },
    {
      "cell_type": "code",
      "execution_count": 16,
      "metadata": {
        "id": "mBYgc66giVFX"
      },
      "outputs": [],
      "source": [
        "#creating a copy of the data to manipulate into a geopandas data frame (sam)\n",
        "ll = df[['latitude', 'longitude']].copy()\n",
        "latlong = gpd.GeoDataFrame(ll, geometry = gpd.points_from_xy(ll.longitude, ll.latitude))"
      ]
    },
    {
      "cell_type": "code",
      "execution_count": null,
      "metadata": {
        "id": "lcR2z0EMjBt3"
      },
      "outputs": [],
      "source": [
        "latlong"
      ]
    },
    {
      "cell_type": "code",
      "execution_count": null,
      "metadata": {
        "id": "TUnJfwToHOQZ"
      },
      "outputs": [],
      "source": [
        "pip install -U matplotlib"
      ]
    },
    {
      "cell_type": "code",
      "execution_count": null,
      "metadata": {
        "id": "nrja-4qJHtzj"
      },
      "outputs": [],
      "source": [
        "pip install matplotlib==3.1.1"
      ]
    },
    {
      "cell_type": "code",
      "execution_count": null,
      "metadata": {
        "id": "UP4Rs6zKjeRP"
      },
      "outputs": [],
      "source": [
        "latlong.plot(color = 'red', markersize = 2)\n",
        "#plot of the different restaurants (sam)"
      ]
    },
    {
      "cell_type": "code",
      "execution_count": null,
      "metadata": {
        "id": "gu7g6_ykkeYg"
      },
      "outputs": [],
      "source": [
        "#creating a map of new york city (sam)\n",
        "places = [\n",
        "    \"Manhattan, New York, New York, USA\", \n",
        "    \"Bronx, New York, New York, USA\",\n",
        "    \"Queens, New York, New York, USA\",\n",
        "    \"Brooklyn, New York, New York, USA\",\n",
        "    \"Staten Island, New York, New York, USA\",\n",
        "]\n",
        "p = ox.geocode_to_gdf(places)"
      ]
    },
    {
      "cell_type": "code",
      "execution_count": null,
      "metadata": {
        "id": "hd_w0irQk6HZ"
      },
      "outputs": [],
      "source": [
        "p"
      ]
    },
    {
      "cell_type": "code",
      "execution_count": null,
      "metadata": {
        "id": "vttmKFXRk71v"
      },
      "outputs": [],
      "source": [
        "#making a copy of the new york city info - only info we need (sam)\n",
        "newyork = p[['geometry']].copy()"
      ]
    },
    {
      "cell_type": "code",
      "execution_count": null,
      "metadata": {
        "id": "p-t5S4vjk-E1"
      },
      "outputs": [],
      "source": [
        "newyork"
      ]
    },
    {
      "cell_type": "code",
      "execution_count": null,
      "metadata": {
        "id": "d1lKEq6xk_Bf"
      },
      "outputs": [],
      "source": [
        "newyork.plot()\n",
        "#plot of this new data of the area of new york city (sam)"
      ]
    },
    {
      "cell_type": "code",
      "execution_count": null,
      "metadata": {
        "id": "AQHtmZFDlAyR"
      },
      "outputs": [],
      "source": [
        "#plotting the points of the restaurants onto new york city (sam)\n",
        "base = newyork.plot(color = 'white', edgecolor = 'black')\n",
        "latlong.plot(ax = base, marker = 'o', color = 'red', markersize = 2)"
      ]
    },
    {
      "cell_type": "code",
      "execution_count": null,
      "metadata": {
        "id": "bh8ffqZElCWp"
      },
      "outputs": [],
      "source": [
        "#this is code for only manhattan restaurants (sam)\n",
        "place = ['Manhattan, New York, New York, USA']\n",
        "p = ox.geocode_to_gdf(place)\n",
        "manhattan = p[['geometry']].copy()\n",
        "manhattan_results = df[df['borough'] == \"Manhattan\"]\n",
        "llmanhattan = manhattan_results[['latitude', 'longitude']].copy()\n",
        "latlongmanhattan = gpd.GeoDataFrame(llmanhattan, geometry = gpd.points_from_xy(llmanhattan.longitude, llmanhattan.latitude))\n",
        "base = manhattan.plot(color = 'white', edgecolor = 'black')\n",
        "latlongmanhattan.plot(ax = base, marker = 'o', color = 'red', markersize = 2)\n"
      ]
    },
    {
      "cell_type": "code",
      "execution_count": null,
      "metadata": {
        "id": "yVA7TXKFlJiu"
      },
      "outputs": [],
      "source": [
        "#only the bronx (sam)\n",
        "place = ['Bronx, New York, New York, USA']\n",
        "p = ox.geocode_to_gdf(place)\n",
        "bronx = p[['geometry']].copy()\n",
        "bronx_results = df[df['borough'] == \"Bronx\"]\n",
        "llbronx = bronx_results[['latitude', 'longitude']].copy()\n",
        "latlongbronx = gpd.GeoDataFrame(llbronx, geometry = gpd.points_from_xy(llbronx.longitude, llbronx.latitude))\n",
        "base = bronx.plot(color = 'white', edgecolor = 'black')\n",
        "latlongbronx.plot(ax = base, marker = 'o', color = 'red', markersize = 2)"
      ]
    },
    {
      "cell_type": "code",
      "execution_count": null,
      "metadata": {
        "id": "GSNdz0iMlPD6"
      },
      "outputs": [],
      "source": [
        "#plotting only restaurants in queens (sam)\n",
        "place = ['Queens, New York, New York, USA']\n",
        "p = ox.geocode_to_gdf(place)\n",
        "queens = p[['geometry']].copy()\n",
        "queens_results = df[df['borough'] == \"Queens\"]\n",
        "llqueens = queens_results[['latitude', 'longitude']].copy()\n",
        "latlongqueens = gpd.GeoDataFrame(llqueens, geometry = gpd.points_from_xy(llqueens.longitude, llqueens.latitude))\n",
        "base = queens.plot(color = 'white', edgecolor = 'black')\n",
        "latlongqueens.plot(ax = base, marker = 'o', color = 'red', markersize = 2)"
      ]
    },
    {
      "cell_type": "code",
      "execution_count": null,
      "metadata": {
        "id": "2GFT6xEllQKI"
      },
      "outputs": [],
      "source": [
        "#only brooklyn plot (sam)\n",
        "place = ['Brooklyn, New York, New York, USA']\n",
        "p = ox.geocode_to_gdf(place)\n",
        "brooklyn = p[['geometry']].copy()\n",
        "brooklyn_results = df[df['borough'] == \"Brooklyn\"]\n",
        "llbrooklyn = brooklyn_results[['latitude', 'longitude']].copy()\n",
        "latlongbrooklyn = gpd.GeoDataFrame(llbrooklyn, geometry = gpd.points_from_xy(llbrooklyn.longitude, llbrooklyn.latitude))\n",
        "base = brooklyn.plot(color = 'white', edgecolor = 'black')\n",
        "latlongbrooklyn.plot(ax = base, marker = 'o', color = 'red', markersize = 2)"
      ]
    },
    {
      "cell_type": "code",
      "execution_count": null,
      "metadata": {
        "id": "1b4ltvRMlU7N"
      },
      "outputs": [],
      "source": [
        "#finding the compliant restaurants and putting them into their own dataframe (sam)\n",
        "compliant = df[df['isroadwaycompliant'] == 'Compliant']"
      ]
    },
    {
      "cell_type": "code",
      "execution_count": null,
      "metadata": {
        "id": "qWEOKYDytbcf"
      },
      "outputs": [],
      "source": [
        "compliant"
      ]
    },
    {
      "cell_type": "code",
      "execution_count": null,
      "metadata": {
        "id": "sNfYXT7btdP1"
      },
      "outputs": [],
      "source": [
        "#finding only the noncompliant restaurants (sam)\n",
        "noncompliant = df[df['isroadwaycompliant'] != 'Compliant']"
      ]
    },
    {
      "cell_type": "code",
      "execution_count": null,
      "metadata": {
        "id": "KcRjhAQutfE0"
      },
      "outputs": [],
      "source": [
        "noncompliant"
      ]
    },
    {
      "cell_type": "code",
      "execution_count": null,
      "metadata": {
        "id": "BLhdfUTCtf_W"
      },
      "outputs": [],
      "source": [
        "#geopandas dataframe of compliant (sam)\n",
        "compliantll = compliant[['latitude', 'longitude']].copy()\n",
        "compliantlatlong = gpd.GeoDataFrame(compliantll, geometry = gpd.points_from_xy(compliantll.longitude, compliantll.latitude))"
      ]
    },
    {
      "cell_type": "code",
      "execution_count": null,
      "metadata": {
        "id": "0XfgjhvAtiPY"
      },
      "outputs": [],
      "source": [
        "compliantlatlong"
      ]
    },
    {
      "cell_type": "code",
      "execution_count": null,
      "metadata": {
        "id": "hYrXqRiItjv6"
      },
      "outputs": [],
      "source": [
        "#plot of the compliant restaurants (sam)\n",
        "compliantlatlong.plot(color = 'red', markersize = 2)"
      ]
    },
    {
      "cell_type": "code",
      "execution_count": null,
      "metadata": {
        "id": "jwZJxrfRuHbW"
      },
      "outputs": [],
      "source": [
        "#creating the new base of new york city (sam)\n",
        "places = [\n",
        "    \"Manhattan, New York, New York, USA\", \n",
        "    \"Bronx, New York, New York, USA\",\n",
        "    \"Queens, New York, New York, USA\",\n",
        "    \"Brooklyn, New York, New York, USA\",\n",
        "    \"Staten Island, New York, New York, USA\",\n",
        "]\n",
        "p = ox.geocode_to_gdf(places)\n",
        "newyork = p[['geometry']].copy()"
      ]
    },
    {
      "cell_type": "code",
      "execution_count": null,
      "metadata": {
        "id": "vxV53VkZt87L"
      },
      "outputs": [],
      "source": [
        "#plotting only the compliant restaurants onto the map of new york city (sam)\n",
        "base = newyork.plot(color = 'white', edgecolor = 'black')\n",
        "compliantlatlong.plot(ax = base, marker = 'o', color = 'red', markersize = 5, alpha = 0.4)"
      ]
    },
    {
      "cell_type": "code",
      "execution_count": null,
      "metadata": {
        "id": "wrX3nRA3tlpA"
      },
      "outputs": [],
      "source": [
        "#making a map of the non compliant restuarants - geopandas (sam)\n",
        "noncompliantll = noncompliant[['latitude', 'longitude']].copy()\n",
        "noncompliantlatlong = gpd.GeoDataFrame(noncompliantll, geometry = gpd.points_from_xy(noncompliantll.longitude, noncompliantll.latitude))"
      ]
    },
    {
      "cell_type": "code",
      "execution_count": null,
      "metadata": {
        "id": "H7J0BURVtrrL"
      },
      "outputs": [],
      "source": [
        "noncompliantlatlong"
      ]
    },
    {
      "cell_type": "code",
      "execution_count": null,
      "metadata": {
        "id": "I-98YmhRttUt"
      },
      "outputs": [],
      "source": [
        "#plotting the non compliant restaurants (sam)\n",
        "noncompliantlatlong.plot(color = 'blue', markersize = 2)"
      ]
    },
    {
      "cell_type": "code",
      "execution_count": null,
      "metadata": {
        "id": "qZWwMT44uMgE"
      },
      "outputs": [],
      "source": [
        "#plotting the points on new york city map (sam)\n",
        "base = newyork.plot(color = 'white', edgecolor = 'black')\n",
        "noncompliantlatlong.plot(ax = base, marker = 'o', color = 'blue', markersize = 5, alpha = 0.4)"
      ]
    },
    {
      "cell_type": "code",
      "execution_count": null,
      "metadata": {
        "id": "8fI1d-BttxlN"
      },
      "outputs": [],
      "source": [
        "#plotting both the compliant and non compliant restaurants with the right colors on the map of new york city (sam)\n",
        "base = newyork.plot(color = 'white', edgecolor = 'black')\n",
        "compliantlatlong.plot(ax = base, marker = 'o', color = 'red', markersize = 5, alpha = 0.4)\n",
        "noncompliantlatlong.plot(ax = base, marker = 'o', color = 'blue', markersize = 3, alpha = 0.2)"
      ]
    },
    {
      "cell_type": "code",
      "execution_count": null,
      "metadata": {
        "id": "6x6vEwmgt0BS"
      },
      "outputs": [],
      "source": [
        "#dataframes of each of the different type of compliancy (sam)\n",
        "noncompliant = df[df['isroadwaycompliant'] == 'Non-Compliant']\n",
        "forhiqareview = df[df['isroadwaycompliant'] == 'For HIQA Review']\n",
        "ceaseanddesist = df[df['isroadwaycompliant'] == 'Cease and Desist']\n",
        "suspendedanddeactivated = df[df['isroadwaycompliant'] == 'Suspended and Deactivated']\n",
        "skippedinspection = df[df['isroadwaycompliant'] == 'Skipped Inspection']\n",
        "underreview = df[df['isroadwaycompliant'] == 'Under Review']\n",
        "markedforremoval = df[df['isroadwaycompliant'] == 'Marked For Removal']\n",
        "preremoval = df[df['isroadwaycompliant'] == 'Pre-Removal']\n",
        "presuspension = df[df['isroadwaycompliant'] == 'Pre-Suspension']"
      ]
    },
    {
      "cell_type": "code",
      "execution_count": null,
      "metadata": {
        "id": "llyJNfkNBITH"
      },
      "outputs": [],
      "source": [
        "#creating the bases for the bar graph (sam)\n",
        "name = ['Compliant', 'Non-Compliant', 'For HIQA Review', 'Cease and Desist', 'Suspended and Deactivate', 'Skipped Inspection', 'Under Review', 'Marked For Removal', 'Pre-Removal', 'Pre-Suspension']\n",
        "amount = [len(compliant), len(noncompliant), len(forhiqareview), len(ceaseanddesist), len(suspendedanddeactivated), len(skippedinspection), len(underreview), len(markedforremoval), len(preremoval), len(presuspension)]\n",
        "colors = ['pink', 'red', 'orange', 'yellow', 'green', 'teal', 'blue', 'purple', 'brown', 'black']"
      ]
    },
    {
      "cell_type": "code",
      "execution_count": null,
      "metadata": {
        "id": "PQ3XAux2BKMR"
      },
      "outputs": [],
      "source": [
        "#creating a bar graph showing the different types of compliancy/noncompliancy (sam)\n",
        "fig, ax = plt.subplots()\n",
        "\n",
        "ax.bar(name, amount)\n",
        "\n",
        "labels = ax.get_xticklabels()\n",
        "plt.setp(labels, rotation = 45, horizontalalignment = 'right')\n",
        "\n",
        "plt.bar(name, amount, color = colors)\n",
        "plt.title('Is Restaurant Compliant?', fontsize=14)\n",
        "plt.xlabel('Type', fontsize=14)\n",
        "plt.ylabel('Number of Restaurants', fontsize=14)"
      ]
    },
    {
      "cell_type": "code",
      "execution_count": null,
      "metadata": {
        "id": "ix8mDA7tBL4e"
      },
      "outputs": [],
      "source": [
        "#same info but a pie chart with the compliant highlighted (sam)\n",
        "explode = [0.2, 0, 0, 0, 0, 0, 0, 0, 0, 0]\n",
        "plt.pie(amount, labels = name, explode = explode, colors = colors)"
      ]
    },
    {
      "cell_type": "code",
      "execution_count": null,
      "metadata": {
        "id": "FpJ9aQcTB4OU"
      },
      "outputs": [],
      "source": [
        "client = Socrata(\"data.cityofnewyork.us\", None)\n",
        "results = client.get(\"4dx7-axux\", limit=2000)\n",
        "results_df = pd.DataFrame.from_records(results)"
      ]
    },
    {
      "cell_type": "code",
      "execution_count": null,
      "metadata": {
        "id": "n4pW-K-clyLe"
      },
      "outputs": [],
      "source": [
        "results_df.rename(columns={'restaurantname': 'Restaurant_Name', 'legalbusinessname': 'Legal_Business_Name', 'isroadwaycompliant': 'Is_Roadway_Compliant', 'borough': 'Borough', 'restaurantname': 'Restaurant_Name', 'seatingchoice': 'Seating_Choice', 'businessaddress': 'Business_Address', 'restaurantinspectionid': 'Restaurant_Inspection_Id', 'inspectedon': 'Inspected_On', 'agencycode': 'Agency_Code', 'postcode': 'Post_Code', 'latitude': 'Latitude', 'longitude': 'Longitude', 'communityboard': 'Community_Board', 'councildistrict': 'Council_District'},inplace=True) \n",
        "results_df.head()"
      ]
    },
    {
      "cell_type": "code",
      "execution_count": null,
      "metadata": {
        "id": "nOjbO8mcl0tl"
      },
      "outputs": [],
      "source": [
        "#drishti\n",
        "results_df = results_df.dropna(subset=['Latitude', 'Longitude', 'Community_Board', 'Council_District', 'censustract'])"
      ]
    },
    {
      "cell_type": "code",
      "execution_count": null,
      "metadata": {
        "id": "r6MMY07fl_Df"
      },
      "outputs": [],
      "source": [
        "#drishti\n",
        "results_df = results_df.astype({'Borough': 'string', \n",
        "                                'Restaurant_Name': 'string', \n",
        "                                'Seating_Choice': 'string', \n",
        "                                'Legal_Business_Name': 'string', \n",
        "                                'Business_Address': 'string', \n",
        "                                'Restaurant_Inspection_Id': 'int' , \n",
        "                                'Is_Roadway_Compliant': 'string',  \n",
        "                                'Agency_Code': 'string', \n",
        "                                'Post_Code': 'int', \n",
        "                                'Latitude': 'float', \n",
        "                                'Longitude': 'float', \n",
        "                                'Community_Board': 'int', \n",
        "                                'Council_District': 'float', \n",
        "                                'censustract': 'float'})"
      ]
    },
    {
      "cell_type": "code",
      "execution_count": null,
      "metadata": {
        "id": "Ukdr8l9amBN0"
      },
      "outputs": [],
      "source": [
        "#drishti\n",
        "results_df[\"Inspected_On\"]= pd.to_datetime(results_df[\"Inspected_On\"])"
      ]
    },
    {
      "cell_type": "code",
      "execution_count": null,
      "metadata": {
        "id": "E-m4iJlPmGwD"
      },
      "outputs": [],
      "source": [
        "#drishti\n",
        "Borough = results_df[\"Borough\"].unique()\n",
        "UniqueCompliant = results_df['Is_Roadway_Compliant'].unique()"
      ]
    },
    {
      "cell_type": "code",
      "execution_count": null,
      "metadata": {
        "id": "aZRjMVX6n3ho"
      },
      "outputs": [],
      "source": [
        "#drishti\n",
        "from google.colab import output\n",
        "output.enable_custom_widget_manager()"
      ]
    },
    {
      "cell_type": "code",
      "execution_count": null,
      "metadata": {
        "id": "kEjNyogNmcAp"
      },
      "outputs": [],
      "source": [
        "#drishti\n",
        "def search(listA,term):\n",
        "    for i in range(0,len(listA)):\n",
        "        if listA[i]==term:\n",
        "            return i\n",
        "    return -1\n",
        "            \n",
        "def changed(x):\n",
        "    if x.name == \"value\":\n",
        "        if x.new == False:\n",
        "            cbDic[x.owner.description]=False\n",
        "        elif x.new == True:\n",
        "            cbDic[x.owner.description]=True\n",
        "        \n",
        "        arr = []\n",
        "        for k in cbDic.keys():\n",
        "            if cbDic[k]==True:\n",
        "                arr.append(k)\n",
        "    \n",
        "        with fig.batch_update():\n",
        "             \n",
        "            for i in range(len(fig.data)):\n",
        "                fig.data[i].x=np.array(arr)\n",
        "        \n",
        "                    \n",
        "                    \n",
        "                \n",
        "                \n",
        "\n",
        "dataset = results_df[['Borough', 'Is_Roadway_Compliant']]\n",
        "containerChildren = []\n",
        "cbDic = {}\n",
        "for b in Borough:\n",
        "    chbox = widgets.Checkbox(value=True,description=b ,disabled=False,indent=False)\n",
        "    chbox.observe(changed)\n",
        "    containerChildren.append(chbox)\n",
        "    cbDic[b]=True\n",
        "\n",
        "data = []\n",
        "bdMatrix = []\n",
        "for b in Borough:\n",
        "    d ={}\n",
        "    for c in UniqueCompliant:\n",
        "        d[c]=0\n",
        "    tempdf = dataset[dataset.Borough==b].groupby(['Is_Roadway_Compliant'])['Is_Roadway_Compliant'].count()\n",
        "    for i in d.keys():\n",
        "        try :\n",
        "            d[i]=tempdf[i]\n",
        "        except :\n",
        "            d[i]=0\n",
        "    bdMatrix.append(list(d.values()))\n",
        "    #trace = go.Bar(x=Borough y=list(d.values()))\n",
        "\n",
        "for i in range(0,len(bdMatrix[0])):\n",
        "    trace = go.Bar(x=Borough, y=[bdMatrix[v][i] for v in range(len(bdMatrix))], name=UniqueCompliant[i])\n",
        "    data.append(trace)\n",
        "    \n",
        "layout = go.Layout(barmode='group')\n",
        "\n",
        "#containerChildren.append(fig) \n",
        "data_final = data.copy()\n",
        "fig = go.FigureWidget(data=data_final,layout=layout)\n",
        "\n"
      ]
    },
    {
      "cell_type": "code",
      "execution_count": null,
      "metadata": {
        "id": "qtH5p9X8mv6i"
      },
      "outputs": [],
      "source": [
        "#drishti\n",
        "checkboxContainer = widgets.HBox(children=containerChildren)\n",
        "figContainer = widgets.VBox(children=[fig])\n",
        "container = widgets.VBox(children= [checkboxContainer,figContainer])\n",
        "container"
      ]
    },
    {
      "cell_type": "code",
      "execution_count": null,
      "metadata": {
        "id": "f_UAnbE4LPa1"
      },
      "outputs": [],
      "source": [
        "results_df_2=results_df.groupby(['Borough']).count()\n",
        "results_df_2 = results_df_2.reset_index()\n",
        "plt.bar(results_df_2[\"Borough\"], results_df_2[\"Restaurant_Inspection_Id\"])\n",
        "plt.xlabel(\"Borough\")\n",
        "plt.ylabel(\"Number of Restaurants in Borough\")\n",
        "plt.title(\"Number of Restaurants in each Borough\")"
      ]
    },
    {
      "cell_type": "code",
      "execution_count": null,
      "metadata": {
        "id": "yH4XPIYmLUQ6"
      },
      "outputs": [],
      "source": [
        "fig = px.bar(results_df_2, x=\"Borough\", y=\"Is_Roadway_Compliant\", color = \"Borough\")\n",
        "fig.show()"
      ]
    },
    {
      "cell_type": "code",
      "execution_count": null,
      "metadata": {
        "id": "cVV1TDTaLr9n"
      },
      "outputs": [],
      "source": [
        "#Count of Restaurants inspected every year\n",
        "#results_df_4['year']=results_df['Inspected_On'].apply(lambda x:x.split('-')[0])\n",
        "results_df['year'] = pd.to_datetime(results_df['Inspected_On']).dt.date"
      ]
    },
    {
      "cell_type": "code",
      "execution_count": null,
      "metadata": {
        "id": "5JkCQQxeLtuK"
      },
      "outputs": [],
      "source": [
        "results_df_4=results_df.groupby(['Council_District']).count()\n",
        "results_df_4 = results_df_4.reset_index()\n",
        "plt.bar(results_df_4[\"Council_District\"], results_df_4[\"Restaurant_Inspection_Id\"])\n",
        "plt.xlabel(\"Council_Districts\")\n",
        "plt.ylabel(\"Number of Restaurants\")\n",
        "plt.title(\"Number of Restaurants in each Council District\")"
      ]
    },
    {
      "cell_type": "code",
      "execution_count": null,
      "metadata": {
        "id": "sh53iTSTL4M5"
      },
      "outputs": [],
      "source": [
        "#Compliant Restaurants in each Council District\n",
        "plt.figure(figsize=(15,10))\n",
        "results_df_4= results_df[results_df['Is_Roadway_Compliant'] == 'Compliant']\n",
        "#results_df_4=results_df_4.groupby(['Council_District])['Is_Roadway_Compliant'].count()\n",
        "results_df_4=results_df_4.groupby(['Council_District'])['Is_Roadway_Compliant'].count()\n",
        "results_df_4 = results_df_4.reset_index()\n",
        "plt.plot(results_df_4['Council_District'], results_df_4['Is_Roadway_Compliant'])\n",
        "highest_cd=int(max(results_df_4['Council_District']))+1\n",
        "plt.xticks([i for i in range(1, highest_cd)])\n",
        "plt.xlabel(\"Council_District\")\n",
        "plt.ylabel(\"Number of Compliant Restaurants\")\n",
        "plt.title(\"Number of Compliant Restaurants in each Council District\")"
      ]
    },
    {
      "cell_type": "code",
      "execution_count": null,
      "metadata": {
        "id": "ldnR8JR6L8tw"
      },
      "outputs": [],
      "source": [
        "#Compliant Restaurants in each Council District\n",
        "plt.figure(figsize=(15,10))\n",
        "results_df_5= results_df[results_df['Is_Roadway_Compliant'] == 'Compliant']\n",
        "results_df_5=results_df_5.groupby(['Seating_Choice'])['Is_Roadway_Compliant'].count()\n",
        "results_df_5 = results_df_5.reset_index()\n",
        "plt.bar(results_df_5['Seating_Choice'], results_df_5['Is_Roadway_Compliant'])\n",
        "#plt.xticks([i for i in range(1, highest_cd)])\n",
        "plt.xlabel(\"Seating Choice\")\n",
        "plt.ylabel(\"Number of Compliant Restaurants\")\n",
        "plt.title(\"Number of Compliant Restaurants By Choice of Seating\")"
      ]
    },
    {
      "cell_type": "code",
      "execution_count": null,
      "metadata": {
        "id": "MN91njFeMCgR"
      },
      "outputs": [],
      "source": [
        "labels= list(results_df_5['Seating_Choice'])\n",
        "\n",
        "colors=['green', 'red', 'blue']\n",
        "\n",
        "sizes= list(results_df_5['Is_Roadway_Compliant'])\n",
        "\n",
        "explode = (0, 0, 0.1)\n",
        "\n",
        "plt.pie(sizes,labels=labels, colors=colors, startangle=90, autopct='%1.1f%%', explode=explode)\n",
        "\n",
        "plt.axis('equal')\n",
        "\n",
        "plt.title(\"Ratio of seating choice in New York City\")\n",
        "\n",
        "plt.show()"
      ]
    },
    {
      "cell_type": "code",
      "execution_count": null,
      "metadata": {
        "id": "Xph2agmdMH-y"
      },
      "outputs": [],
      "source": [
        "Borough = results_df[\"Borough\"].unique()\n",
        "UniqueCompliant = dataset['Is_Roadway_Compliant'].unique()"
      ]
    },
    {
      "cell_type": "code",
      "execution_count": null,
      "metadata": {
        "id": "j53Pll7HMNBO"
      },
      "outputs": [],
      "source": [
        "def search(listA,term):\n",
        "    for i in range(0,len(listA)):\n",
        "        if listA[i]==term:\n",
        "            return i\n",
        "    return -1\n",
        "            \n",
        "def changed(x):\n",
        "    if x.name == \"value\":\n",
        "        if x.new == False:\n",
        "            cbDic[x.owner.description]=False\n",
        "        elif x.new == True:\n",
        "            cbDic[x.owner.description]=True\n",
        "        \n",
        "        arr = []\n",
        "        for k in cbDic.keys():\n",
        "            if cbDic[k]==True:\n",
        "                arr.append(k)\n",
        "    \n",
        "        with fig.batch_update():\n",
        "             \n",
        "            for i in range(len(fig.data)):\n",
        "                fig.data[i].x=np.array(arr)\n",
        "        \n",
        "                    \n",
        "                    \n",
        "                \n",
        "                \n",
        "\n",
        "dataset = results_df[['Borough', 'Is_Roadway_Compliant']]\n",
        "containerChildren = []\n",
        "cbDic = {}\n",
        "for b in Borough:\n",
        "    chbox = widgets.Checkbox(value=True,description=b ,disabled=False,indent=False)\n",
        "    chbox.observe(changed)\n",
        "    containerChildren.append(chbox)\n",
        "    cbDic[b]=True\n",
        "\n",
        "data = []\n",
        "bdMatrix = []\n",
        "for b in Borough:\n",
        "    d ={}\n",
        "    for c in UniqueCompliant:\n",
        "        d[c]=0\n",
        "    tempdf = dataset[dataset.Borough==b].groupby(['Is_Roadway_Compliant'])['Is_Roadway_Compliant'].count()\n",
        "    for i in d.keys():\n",
        "        try :\n",
        "            d[i]=tempdf[i]\n",
        "        except :\n",
        "            d[i]=0\n",
        "    bdMatrix.append(list(d.values()))\n",
        "    #trace = go.Bar(x=Borough y=list(d.values()))\n",
        "\n",
        "for i in range(0,len(bdMatrix[0])):\n",
        "    trace = go.Bar(x=Borough, y=[bdMatrix[v][i] for v in range(len(bdMatrix))], name=UniqueCompliant[i])\n",
        "    data.append(trace)\n",
        "    \n",
        "layout = go.Layout(barmode='group')\n",
        "\n",
        "#containerChildren.append(fig) \n",
        "data_final = data.copy()\n",
        "fig = go.FigureWidget(data=data_final,layout=layout)\n"
      ]
    },
    {
      "cell_type": "code",
      "execution_count": null,
      "metadata": {
        "id": "g9a1KK4NMPLd"
      },
      "outputs": [],
      "source": [
        "checkboxContainer = widgets.HBox(children=containerChildren)\n",
        "figContainer = widgets.VBox(children=[fig])\n",
        "container = widgets.VBox(children= [checkboxContainer,figContainer])"
      ]
    },
    {
      "cell_type": "code",
      "execution_count": null,
      "metadata": {
        "id": "gWOOhAOqMVoz"
      },
      "outputs": [],
      "source": [
        "container"
      ]
    },
    {
      "cell_type": "code",
      "execution_count": null,
      "metadata": {
        "id": "eQTH2h1Ire6f"
      },
      "outputs": [],
      "source": [
        "# Bar charts of the number of restaurants that belong to each compliant type by borough over year (xiaotong)\n",
        "df['year'] = pd.to_datetime(df['inspectedon']).dt.year"
      ]
    },
    {
      "cell_type": "code",
      "execution_count": null,
      "metadata": {
        "id": "wGUIlijCyzj4"
      },
      "outputs": [],
      "source": [
        "df['year'] = df['year'].astype('str')"
      ]
    },
    {
      "cell_type": "code",
      "execution_count": null,
      "metadata": {
        "id": "4p4zPUPSywnU"
      },
      "outputs": [],
      "source": [
        "df_bar = df.groupby(['borough', 'isroadwaycompliant', 'year']).size().reset_index(name='count')"
      ]
    },
    {
      "cell_type": "code",
      "execution_count": null,
      "metadata": {
        "id": "T7Dirvmh9L2K"
      },
      "outputs": [],
      "source": [
        "fig = px.bar(df_bar, x=\"borough\", y=\"count\", color=\"isroadwaycompliant\", \n",
        "             facet_col=\"year\",\n",
        "             category_orders={\"year\": [\"2020\", \"2021\", \"2022\"]},\n",
        "             title = \"No. of restaurant in each compliant type by borough over year\")\n",
        "fig.show()"
      ]
    },
    {
      "cell_type": "code",
      "execution_count": null,
      "metadata": {
        "id": "PpDuAm6gCO0g"
      },
      "outputs": [],
      "source": [
        "# A map visualization that has restaurant information - name, borough, compliant type (xiaotong)\n",
        "df_map = df[['borough', 'restaurantname', 'latitude', 'longitude', 'isroadwaycompliant']]"
      ]
    },
    {
      "cell_type": "code",
      "execution_count": null,
      "metadata": {
        "id": "UtzZkHyUjySn"
      },
      "outputs": [],
      "source": [
        "df_map.dtypes"
      ]
    },
    {
      "cell_type": "code",
      "execution_count": null,
      "metadata": {
        "id": "YOoYXd-rmenL"
      },
      "outputs": [],
      "source": [
        "df_map = df_map.copy()"
      ]
    },
    {
      "cell_type": "code",
      "execution_count": null,
      "metadata": {
        "id": "zgyI2WKqjNkT"
      },
      "outputs": [],
      "source": [
        "df_map['latitude'] = df_map['latitude'].astype('float')"
      ]
    },
    {
      "cell_type": "code",
      "execution_count": null,
      "metadata": {
        "id": "YdW5bo0tjcx3"
      },
      "outputs": [],
      "source": [
        "df_map['longitude'] = df_map['longitude'].astype('float')"
      ]
    },
    {
      "cell_type": "code",
      "execution_count": null,
      "metadata": {
        "id": "ya1gQVWZiitV"
      },
      "outputs": [],
      "source": [
        "df_map.dtypes"
      ]
    },
    {
      "cell_type": "code",
      "execution_count": null,
      "metadata": {
        "id": "brf274rAiD9j"
      },
      "outputs": [],
      "source": [
        "fig = px.scatter_mapbox(df_map, lat=\"latitude\", lon=\"longitude\", hover_name=\"restaurantname\", hover_data=[\"borough\", \"isroadwaycompliant\"], zoom=10, height=500)\n",
        "fig.update_layout(mapbox_style=\"open-street-map\")\n",
        "fig.update_layout(margin={\"r\":5,\"t\":5,\"l\":5,\"b\":5})\n",
        "fig.show()"
      ]
    }
  ],
  "metadata": {
    "colab": {
      "provenance": [],
      "include_colab_link": true
    },
    "kernelspec": {
      "display_name": "Python 3",
      "name": "python3"
    },
    "language_info": {
      "name": "python"
    },
    "widgets": {
      "application/vnd.jupyter.widget-state+json": {
        "b41966c3191946a98349cb5e4560f625": {
          "model_module": "@jupyter-widgets/controls",
          "model_name": "ButtonModel",
          "model_module_version": "1.5.0",
          "state": {
            "_dom_classes": [],
            "_model_module": "@jupyter-widgets/controls",
            "_model_module_version": "1.5.0",
            "_model_name": "ButtonModel",
            "_view_count": null,
            "_view_module": "@jupyter-widgets/controls",
            "_view_module_version": "1.5.0",
            "_view_name": "ButtonView",
            "button_style": "",
            "description": "Get Data",
            "disabled": false,
            "icon": "check",
            "layout": "IPY_MODEL_e5d37ff344cc496b9c22e2f3049f53ab",
            "style": "IPY_MODEL_849f462d04364a7bb6f6ac8660529ffa",
            "tooltip": "Get Data"
          }
        },
        "e5d37ff344cc496b9c22e2f3049f53ab": {
          "model_module": "@jupyter-widgets/base",
          "model_name": "LayoutModel",
          "model_module_version": "1.2.0",
          "state": {
            "_model_module": "@jupyter-widgets/base",
            "_model_module_version": "1.2.0",
            "_model_name": "LayoutModel",
            "_view_count": null,
            "_view_module": "@jupyter-widgets/base",
            "_view_module_version": "1.2.0",
            "_view_name": "LayoutView",
            "align_content": null,
            "align_items": null,
            "align_self": null,
            "border": null,
            "bottom": null,
            "display": null,
            "flex": null,
            "flex_flow": null,
            "grid_area": null,
            "grid_auto_columns": null,
            "grid_auto_flow": null,
            "grid_auto_rows": null,
            "grid_column": null,
            "grid_gap": null,
            "grid_row": null,
            "grid_template_areas": null,
            "grid_template_columns": null,
            "grid_template_rows": null,
            "height": null,
            "justify_content": null,
            "justify_items": null,
            "left": null,
            "margin": null,
            "max_height": null,
            "max_width": null,
            "min_height": null,
            "min_width": null,
            "object_fit": null,
            "object_position": null,
            "order": null,
            "overflow": null,
            "overflow_x": null,
            "overflow_y": null,
            "padding": null,
            "right": null,
            "top": null,
            "visibility": null,
            "width": null
          }
        },
        "849f462d04364a7bb6f6ac8660529ffa": {
          "model_module": "@jupyter-widgets/controls",
          "model_name": "ButtonStyleModel",
          "model_module_version": "1.5.0",
          "state": {
            "_model_module": "@jupyter-widgets/controls",
            "_model_module_version": "1.5.0",
            "_model_name": "ButtonStyleModel",
            "_view_count": null,
            "_view_module": "@jupyter-widgets/base",
            "_view_module_version": "1.2.0",
            "_view_name": "StyleView",
            "button_color": null,
            "font_weight": ""
          }
        },
        "667b129c03fd4a459430b1c5d0d3549d": {
          "model_module": "@jupyter-widgets/output",
          "model_name": "OutputModel",
          "model_module_version": "1.0.0",
          "state": {
            "_dom_classes": [],
            "_model_module": "@jupyter-widgets/output",
            "_model_module_version": "1.0.0",
            "_model_name": "OutputModel",
            "_view_count": null,
            "_view_module": "@jupyter-widgets/output",
            "_view_module_version": "1.0.0",
            "_view_name": "OutputView",
            "layout": "IPY_MODEL_086bcd4b72c14699a8c1e2990d30400c",
            "msg_id": "",
            "outputs": [
              {
                "output_type": "stream",
                "name": "stdout",
                "text": [
                  "button clicked\n"
                ]
              }
            ]
          }
        },
        "086bcd4b72c14699a8c1e2990d30400c": {
          "model_module": "@jupyter-widgets/base",
          "model_name": "LayoutModel",
          "model_module_version": "1.2.0",
          "state": {
            "_model_module": "@jupyter-widgets/base",
            "_model_module_version": "1.2.0",
            "_model_name": "LayoutModel",
            "_view_count": null,
            "_view_module": "@jupyter-widgets/base",
            "_view_module_version": "1.2.0",
            "_view_name": "LayoutView",
            "align_content": null,
            "align_items": null,
            "align_self": null,
            "border": null,
            "bottom": null,
            "display": null,
            "flex": null,
            "flex_flow": null,
            "grid_area": null,
            "grid_auto_columns": null,
            "grid_auto_flow": null,
            "grid_auto_rows": null,
            "grid_column": null,
            "grid_gap": null,
            "grid_row": null,
            "grid_template_areas": null,
            "grid_template_columns": null,
            "grid_template_rows": null,
            "height": null,
            "justify_content": null,
            "justify_items": null,
            "left": null,
            "margin": null,
            "max_height": null,
            "max_width": null,
            "min_height": null,
            "min_width": null,
            "object_fit": null,
            "object_position": null,
            "order": null,
            "overflow": null,
            "overflow_x": null,
            "overflow_y": null,
            "padding": null,
            "right": null,
            "top": null,
            "visibility": null,
            "width": null
          }
        }
      }
    }
  },
  "nbformat": 4,
  "nbformat_minor": 0
}